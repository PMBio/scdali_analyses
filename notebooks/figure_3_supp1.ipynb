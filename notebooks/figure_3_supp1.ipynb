{
 "cells": [
  {
   "cell_type": "markdown",
   "metadata": {},
   "source": [
    "# Supplementary figure (Lineage analysis)"
   ]
  },
  {
   "cell_type": "code",
   "execution_count": 1,
   "metadata": {},
   "outputs": [],
   "source": [
    "experiment_ids = 'f1'\n",
    "timepoints = 'all'\n",
    "regions = 'cusanovich_dm6_peaks_1kb'\n",
    "correction = 'wasp'"
   ]
  },
  {
   "cell_type": "code",
   "execution_count": 2,
   "metadata": {},
   "outputs": [],
   "source": [
    "label = '_'.join([experiment_ids, timepoints, 'windows'])\n",
    "wasp_adjusted = True if correction == 'wasp' else False"
   ]
  },
  {
   "cell_type": "markdown",
   "metadata": {},
   "source": [
    "## Imports"
   ]
  },
  {
   "cell_type": "code",
   "execution_count": 3,
   "metadata": {},
   "outputs": [],
   "source": [
    "# general\n",
    "import sys\n",
    "import os"
   ]
  },
  {
   "cell_type": "code",
   "execution_count": 4,
   "metadata": {},
   "outputs": [],
   "source": [
    "# tools\n",
    "import numpy as np\n",
    "import pandas as pd\n",
    "import scanpy as sc\n",
    "import scipy\n",
    "\n",
    "from dali import run_dali\n",
    "from dali.utils.stats import apply_fdr_bh\n",
    "\n",
    "sc.settings.verbosity = 3"
   ]
  },
  {
   "cell_type": "code",
   "execution_count": 5,
   "metadata": {},
   "outputs": [],
   "source": [
    "# plotting\n",
    "import matplotlib\n",
    "import matplotlib.pyplot as plt\n",
    "import seaborn as sns\n",
    "\n",
    "%config InlineBackend.figure_format = 'retina'"
   ]
  },
  {
   "cell_type": "code",
   "execution_count": 6,
   "metadata": {},
   "outputs": [],
   "source": [
    "# local\n",
    "sys.path.append('..')\n",
    "\n",
    "from utils import settings"
   ]
  },
  {
   "cell_type": "markdown",
   "metadata": {},
   "source": [
    "## Abbreviations"
   ]
  },
  {
   "cell_type": "code",
   "execution_count": 7,
   "metadata": {},
   "outputs": [],
   "source": [
    "DALIHOM_PVAL = 'DALIHOM'\n",
    "DALIHET_PVAL = 'DALIHET_VAE'\n",
    "DALIHET_PVAL_LINEAGE = lambda x : 'DALIHET_TIME_%s' % x\n",
    "DALIJOINT_PVAL = 'DALIJOINT'"
   ]
  },
  {
   "cell_type": "markdown",
   "metadata": {},
   "source": [
    "## Plot settings"
   ]
  },
  {
   "cell_type": "code",
   "execution_count": 8,
   "metadata": {},
   "outputs": [],
   "source": [
    "%config InlineBackend.figure_format = 'retina'\n",
    "\n",
    "plt.rcParams['font.sans-serif'] = \"Arial\"\n",
    "plt.rcParams['font.family'] = \"sans-serif\"\n",
    "plt.rcParams['svg.fonttype'] = 'none'\n",
    "plt.rcParams['font.size'] = 7\n",
    "sns.set_style(\"ticks\")"
   ]
  },
  {
   "cell_type": "code",
   "execution_count": 9,
   "metadata": {},
   "outputs": [],
   "source": [
    "FIGURE_NUMBER = 'supp31'\n",
    "PANEL_COUNTS = 1\n",
    "\n",
    "def save_panel(fig):\n",
    "    global PANEL_COUNTS\n",
    "    \n",
    "    fig_dir = 'figures/fig%s' % FIGURE_NUMBER\n",
    "    if not os.path.exists(fig_dir):\n",
    "        os.makedirs(fig_dir)\n",
    "    fig.savefig(fig_dir + '/panel_%d.svg' % PANEL_COUNTS, dpi=350)\n",
    "    PANEL_COUNTS += 1"
   ]
  },
  {
   "cell_type": "markdown",
   "metadata": {},
   "source": [
    "## Load anndata with GP estimates"
   ]
  },
  {
   "cell_type": "markdown",
   "metadata": {},
   "source": [
    "Load total counts anndata"
   ]
  },
  {
   "cell_type": "code",
   "execution_count": 10,
   "metadata": {},
   "outputs": [
    {
     "data": {
      "text/plain": [
       "AnnData object with n_obs × n_vars = 34053 × 25000\n",
       "    obs: 'exp_id', 'timepoint', 'n_genes', 'n_peaks_by_counts', 'log1p_n_peaks_by_counts', 'total_counts', 'log1p_total_counts', 'pct_counts_in_top_50_peaks', 'pct_counts_in_top_100_peaks', 'pct_counts_in_top_200_peaks', 'pct_counts_in_top_500_peaks', 'n_counts', 'X_pca_0', 'size_vae', 'time_vae', 'leiden_vae', 'annotation', 'lineage_muscle', 'lineage_nervous'\n",
       "    var: 'chr', 'start', 'end', 'length', 'n_cells', 'n_cells_by_counts', 'mean_counts', 'log1p_mean_counts', 'pct_dropout_by_counts', 'total_counts', 'log1p_total_counts', 'count_variance'\n",
       "    uns: 'annotation_colors', 'enrichment', 'exp_id_colors', 'leiden', 'leiden_vae_colors', 'neighbors', 'pca', 'rank_genes_groups', 'timepoint_colors', 'umap'\n",
       "    obsm: 'X_pca', 'X_umap', 'X_vae'\n",
       "    varm: 'PCs'\n",
       "    layers: 'vae_peak_activities'\n",
       "    obsp: 'connectivities', 'distances'"
      ]
     },
     "execution_count": 10,
     "metadata": {},
     "output_type": "execute_result"
    }
   ],
   "source": [
    "adata_total = sc.read(os.path.join(settings.DATA_DIR, label, 'total_counts_vae_processed.h5ad'))\n",
    "adata_total"
   ]
  },
  {
   "cell_type": "code",
   "execution_count": 11,
   "metadata": {},
   "outputs": [],
   "source": [
    "lineages = adata_total.obs['annotation'].cat.categories.tolist()"
   ]
  },
  {
   "cell_type": "code",
   "execution_count": 12,
   "metadata": {},
   "outputs": [],
   "source": [
    "lineage_var_formatter = lambda s: dict(zip(lineages, [l.replace(' ', '_').lower() + '_%s' % s for l in lineages]))"
   ]
  },
  {
   "cell_type": "markdown",
   "metadata": {},
   "source": [
    "Colors for lineages"
   ]
  },
  {
   "cell_type": "code",
   "execution_count": 13,
   "metadata": {},
   "outputs": [],
   "source": [
    "lineage_colors = dict(zip(lineages, adata_total.uns['annotation_colors']))"
   ]
  },
  {
   "cell_type": "markdown",
   "metadata": {},
   "source": [
    "Load anndata with GP interpolation"
   ]
  },
  {
   "cell_type": "code",
   "execution_count": 14,
   "metadata": {},
   "outputs": [],
   "source": [
    "# Compile dataframe with all results\n",
    "df_all = pd.DataFrame()\n",
    "\n",
    "adatas_allelic = dict()\n",
    "for exp_id in settings.F1_EXP_IDS:\n",
    "    # all tested peaks\n",
    "    fname = '_'.join([exp_id, regions, correction, 'allelic_counts.h5ad'])\n",
    "    adata = sc.read(os.path.join(settings.DATA_DIR, label, fname))\n",
    "    adata_var = adata.var\n",
    "    adata_var['exp_id'] = exp_id\n",
    "    adata_var['empirical_global_rate'] = (adata.X.A.sum(0) / adata.layers['allelic_total'].A.sum(0)).ravel()\n",
    "    \n",
    "    # compute counts per peak\n",
    "    lineage_counts_df = pd.DataFrame(\n",
    "        adata.layers['allelic_total'].A > 0,\n",
    "        index = adata.obs_names, \n",
    "        columns = adata.var_names)\n",
    "    lineage_counts_df['lineage'] = adata.obs['annotation']\n",
    "    lineage_counts_df = lineage_counts_df.groupby('lineage').sum(0).T\n",
    "    lineage_counts_df = lineage_counts_df.rename(lineage_var_formatter('counts'), axis=1)\n",
    "    \n",
    "    adata_var = pd.merge(adata_var, lineage_counts_df, left_index=True, right_index=True)\n",
    "    \n",
    "    # with GP estimates\n",
    "    fname = '_'.join([exp_id, regions, correction, 'allelic_counts_processed.h5ad'])\n",
    "    adata = sc.read(os.path.join(settings.DATA_DIR, label, fname))\n",
    "    \n",
    "    adata_var = pd.merge(adata_var, adata.var['qdiff_5'], left_index=True, right_index=True, how='outer', sort=False)\n",
    "    \n",
    "    adata_var = adata_var.reset_index().rename({'index': 'peak'}, axis=1)\n",
    "    df_all = pd.concat([df_all, adata_var], ignore_index=True)\n",
    "    adatas_allelic[exp_id] = adata"
   ]
  },
  {
   "cell_type": "code",
   "execution_count": 15,
   "metadata": {},
   "outputs": [
    {
     "data": {
      "text/html": [
       "<div>\n",
       "<style scoped>\n",
       "    .dataframe tbody tr th:only-of-type {\n",
       "        vertical-align: middle;\n",
       "    }\n",
       "\n",
       "    .dataframe tbody tr th {\n",
       "        vertical-align: top;\n",
       "    }\n",
       "\n",
       "    .dataframe thead th {\n",
       "        text-align: right;\n",
       "    }\n",
       "</style>\n",
       "<table border=\"1\" class=\"dataframe\">\n",
       "  <thead>\n",
       "    <tr style=\"text-align: right;\">\n",
       "      <th></th>\n",
       "      <th>peak</th>\n",
       "      <th>chr</th>\n",
       "      <th>start</th>\n",
       "      <th>end</th>\n",
       "      <th>length</th>\n",
       "      <th>n_cells</th>\n",
       "      <th>n_cells_by_counts</th>\n",
       "      <th>mean_counts</th>\n",
       "      <th>log1p_mean_counts</th>\n",
       "      <th>pct_dropout_by_counts</th>\n",
       "      <th>...</th>\n",
       "      <th>exp_id</th>\n",
       "      <th>empirical_global_rate</th>\n",
       "      <th>epidermis_counts</th>\n",
       "      <th>fat_body_counts</th>\n",
       "      <th>hemocytes_counts</th>\n",
       "      <th>midgut_counts</th>\n",
       "      <th>muscle_counts</th>\n",
       "      <th>nervous_system_counts</th>\n",
       "      <th>primordium_counts</th>\n",
       "      <th>qdiff_5</th>\n",
       "    </tr>\n",
       "  </thead>\n",
       "  <tbody>\n",
       "    <tr>\n",
       "      <th>0</th>\n",
       "      <td>chr2L_10003721_10004721</td>\n",
       "      <td>chr2L</td>\n",
       "      <td>10003721</td>\n",
       "      <td>10004721</td>\n",
       "      <td>1001</td>\n",
       "      <td>745</td>\n",
       "      <td>745</td>\n",
       "      <td>0.123386</td>\n",
       "      <td>0.116347</td>\n",
       "      <td>92.710372</td>\n",
       "      <td>...</td>\n",
       "      <td>SS148</td>\n",
       "      <td>0.516257</td>\n",
       "      <td>79</td>\n",
       "      <td>20</td>\n",
       "      <td>38</td>\n",
       "      <td>109</td>\n",
       "      <td>212</td>\n",
       "      <td>74</td>\n",
       "      <td>213</td>\n",
       "      <td>NaN</td>\n",
       "    </tr>\n",
       "    <tr>\n",
       "      <th>1</th>\n",
       "      <td>chr2L_10004159_10005159</td>\n",
       "      <td>chr2L</td>\n",
       "      <td>10004159</td>\n",
       "      <td>10005159</td>\n",
       "      <td>1001</td>\n",
       "      <td>746</td>\n",
       "      <td>746</td>\n",
       "      <td>0.123386</td>\n",
       "      <td>0.116347</td>\n",
       "      <td>92.700587</td>\n",
       "      <td>...</td>\n",
       "      <td>SS148</td>\n",
       "      <td>0.517050</td>\n",
       "      <td>79</td>\n",
       "      <td>20</td>\n",
       "      <td>38</td>\n",
       "      <td>109</td>\n",
       "      <td>212</td>\n",
       "      <td>74</td>\n",
       "      <td>214</td>\n",
       "      <td>NaN</td>\n",
       "    </tr>\n",
       "    <tr>\n",
       "      <th>2</th>\n",
       "      <td>chr2L_10056155_10057155</td>\n",
       "      <td>chr2L</td>\n",
       "      <td>10056155</td>\n",
       "      <td>10057155</td>\n",
       "      <td>1001</td>\n",
       "      <td>1094</td>\n",
       "      <td>1094</td>\n",
       "      <td>0.178180</td>\n",
       "      <td>0.163971</td>\n",
       "      <td>89.295499</td>\n",
       "      <td>...</td>\n",
       "      <td>SS148</td>\n",
       "      <td>0.549698</td>\n",
       "      <td>102</td>\n",
       "      <td>43</td>\n",
       "      <td>37</td>\n",
       "      <td>112</td>\n",
       "      <td>296</td>\n",
       "      <td>132</td>\n",
       "      <td>372</td>\n",
       "      <td>NaN</td>\n",
       "    </tr>\n",
       "    <tr>\n",
       "      <th>3</th>\n",
       "      <td>chr2L_10056441_10057441</td>\n",
       "      <td>chr2L</td>\n",
       "      <td>10056441</td>\n",
       "      <td>10057441</td>\n",
       "      <td>1001</td>\n",
       "      <td>1431</td>\n",
       "      <td>1431</td>\n",
       "      <td>0.231311</td>\n",
       "      <td>0.208080</td>\n",
       "      <td>85.998043</td>\n",
       "      <td>...</td>\n",
       "      <td>SS148</td>\n",
       "      <td>0.543993</td>\n",
       "      <td>131</td>\n",
       "      <td>54</td>\n",
       "      <td>56</td>\n",
       "      <td>138</td>\n",
       "      <td>402</td>\n",
       "      <td>169</td>\n",
       "      <td>481</td>\n",
       "      <td>NaN</td>\n",
       "    </tr>\n",
       "    <tr>\n",
       "      <th>4</th>\n",
       "      <td>chr2L_10056861_10057861</td>\n",
       "      <td>chr2L</td>\n",
       "      <td>10056861</td>\n",
       "      <td>10057861</td>\n",
       "      <td>1001</td>\n",
       "      <td>1198</td>\n",
       "      <td>1198</td>\n",
       "      <td>0.184834</td>\n",
       "      <td>0.169602</td>\n",
       "      <td>88.277886</td>\n",
       "      <td>...</td>\n",
       "      <td>SS148</td>\n",
       "      <td>0.539439</td>\n",
       "      <td>111</td>\n",
       "      <td>43</td>\n",
       "      <td>51</td>\n",
       "      <td>110</td>\n",
       "      <td>333</td>\n",
       "      <td>145</td>\n",
       "      <td>405</td>\n",
       "      <td>NaN</td>\n",
       "    </tr>\n",
       "    <tr>\n",
       "      <th>...</th>\n",
       "      <td>...</td>\n",
       "      <td>...</td>\n",
       "      <td>...</td>\n",
       "      <td>...</td>\n",
       "      <td>...</td>\n",
       "      <td>...</td>\n",
       "      <td>...</td>\n",
       "      <td>...</td>\n",
       "      <td>...</td>\n",
       "      <td>...</td>\n",
       "      <td>...</td>\n",
       "      <td>...</td>\n",
       "      <td>...</td>\n",
       "      <td>...</td>\n",
       "      <td>...</td>\n",
       "      <td>...</td>\n",
       "      <td>...</td>\n",
       "      <td>...</td>\n",
       "      <td>...</td>\n",
       "      <td>...</td>\n",
       "      <td>...</td>\n",
       "    </tr>\n",
       "    <tr>\n",
       "      <th>39525</th>\n",
       "      <td>chr4_66347_67347</td>\n",
       "      <td>chr4</td>\n",
       "      <td>66347</td>\n",
       "      <td>67347</td>\n",
       "      <td>1001</td>\n",
       "      <td>1093</td>\n",
       "      <td>1093</td>\n",
       "      <td>0.255395</td>\n",
       "      <td>0.227450</td>\n",
       "      <td>86.598823</td>\n",
       "      <td>...</td>\n",
       "      <td>SS159</td>\n",
       "      <td>0.508881</td>\n",
       "      <td>102</td>\n",
       "      <td>54</td>\n",
       "      <td>83</td>\n",
       "      <td>147</td>\n",
       "      <td>326</td>\n",
       "      <td>145</td>\n",
       "      <td>236</td>\n",
       "      <td>NaN</td>\n",
       "    </tr>\n",
       "    <tr>\n",
       "      <th>39526</th>\n",
       "      <td>chr4_66756_67756</td>\n",
       "      <td>chr4</td>\n",
       "      <td>66756</td>\n",
       "      <td>67756</td>\n",
       "      <td>1001</td>\n",
       "      <td>1139</td>\n",
       "      <td>1139</td>\n",
       "      <td>0.266184</td>\n",
       "      <td>0.236008</td>\n",
       "      <td>86.034821</td>\n",
       "      <td>...</td>\n",
       "      <td>SS159</td>\n",
       "      <td>0.507600</td>\n",
       "      <td>106</td>\n",
       "      <td>55</td>\n",
       "      <td>86</td>\n",
       "      <td>157</td>\n",
       "      <td>338</td>\n",
       "      <td>150</td>\n",
       "      <td>247</td>\n",
       "      <td>NaN</td>\n",
       "    </tr>\n",
       "    <tr>\n",
       "      <th>39527</th>\n",
       "      <td>chr4_68324_69324</td>\n",
       "      <td>chr4</td>\n",
       "      <td>68324</td>\n",
       "      <td>69324</td>\n",
       "      <td>1001</td>\n",
       "      <td>653</td>\n",
       "      <td>653</td>\n",
       "      <td>0.102624</td>\n",
       "      <td>0.097693</td>\n",
       "      <td>91.993624</td>\n",
       "      <td>...</td>\n",
       "      <td>SS159</td>\n",
       "      <td>0.491039</td>\n",
       "      <td>67</td>\n",
       "      <td>31</td>\n",
       "      <td>58</td>\n",
       "      <td>95</td>\n",
       "      <td>154</td>\n",
       "      <td>90</td>\n",
       "      <td>158</td>\n",
       "      <td>NaN</td>\n",
       "    </tr>\n",
       "    <tr>\n",
       "      <th>39528</th>\n",
       "      <td>chr4_807430_808430</td>\n",
       "      <td>chr4</td>\n",
       "      <td>807430</td>\n",
       "      <td>808430</td>\n",
       "      <td>1001</td>\n",
       "      <td>834</td>\n",
       "      <td>834</td>\n",
       "      <td>0.157430</td>\n",
       "      <td>0.146202</td>\n",
       "      <td>89.774399</td>\n",
       "      <td>...</td>\n",
       "      <td>SS159</td>\n",
       "      <td>0.522586</td>\n",
       "      <td>99</td>\n",
       "      <td>44</td>\n",
       "      <td>62</td>\n",
       "      <td>66</td>\n",
       "      <td>290</td>\n",
       "      <td>118</td>\n",
       "      <td>155</td>\n",
       "      <td>NaN</td>\n",
       "    </tr>\n",
       "    <tr>\n",
       "      <th>39529</th>\n",
       "      <td>chr4_807816_808816</td>\n",
       "      <td>chr4</td>\n",
       "      <td>807816</td>\n",
       "      <td>808816</td>\n",
       "      <td>1001</td>\n",
       "      <td>896</td>\n",
       "      <td>896</td>\n",
       "      <td>0.168097</td>\n",
       "      <td>0.155376</td>\n",
       "      <td>89.014223</td>\n",
       "      <td>...</td>\n",
       "      <td>SS159</td>\n",
       "      <td>0.504741</td>\n",
       "      <td>104</td>\n",
       "      <td>47</td>\n",
       "      <td>63</td>\n",
       "      <td>77</td>\n",
       "      <td>303</td>\n",
       "      <td>123</td>\n",
       "      <td>179</td>\n",
       "      <td>NaN</td>\n",
       "    </tr>\n",
       "  </tbody>\n",
       "</table>\n",
       "<p>39530 rows × 64 columns</p>\n",
       "</div>"
      ],
      "text/plain": [
       "                          peak    chr     start       end  length  n_cells  \\\n",
       "0      chr2L_10003721_10004721  chr2L  10003721  10004721    1001      745   \n",
       "1      chr2L_10004159_10005159  chr2L  10004159  10005159    1001      746   \n",
       "2      chr2L_10056155_10057155  chr2L  10056155  10057155    1001     1094   \n",
       "3      chr2L_10056441_10057441  chr2L  10056441  10057441    1001     1431   \n",
       "4      chr2L_10056861_10057861  chr2L  10056861  10057861    1001     1198   \n",
       "...                        ...    ...       ...       ...     ...      ...   \n",
       "39525         chr4_66347_67347   chr4     66347     67347    1001     1093   \n",
       "39526         chr4_66756_67756   chr4     66756     67756    1001     1139   \n",
       "39527         chr4_68324_69324   chr4     68324     69324    1001      653   \n",
       "39528       chr4_807430_808430   chr4    807430    808430    1001      834   \n",
       "39529       chr4_807816_808816   chr4    807816    808816    1001      896   \n",
       "\n",
       "       n_cells_by_counts  mean_counts  log1p_mean_counts  \\\n",
       "0                    745     0.123386           0.116347   \n",
       "1                    746     0.123386           0.116347   \n",
       "2                   1094     0.178180           0.163971   \n",
       "3                   1431     0.231311           0.208080   \n",
       "4                   1198     0.184834           0.169602   \n",
       "...                  ...          ...                ...   \n",
       "39525               1093     0.255395           0.227450   \n",
       "39526               1139     0.266184           0.236008   \n",
       "39527                653     0.102624           0.097693   \n",
       "39528                834     0.157430           0.146202   \n",
       "39529                896     0.168097           0.155376   \n",
       "\n",
       "       pct_dropout_by_counts  ...  exp_id  empirical_global_rate  \\\n",
       "0                  92.710372  ...   SS148               0.516257   \n",
       "1                  92.700587  ...   SS148               0.517050   \n",
       "2                  89.295499  ...   SS148               0.549698   \n",
       "3                  85.998043  ...   SS148               0.543993   \n",
       "4                  88.277886  ...   SS148               0.539439   \n",
       "...                      ...  ...     ...                    ...   \n",
       "39525              86.598823  ...   SS159               0.508881   \n",
       "39526              86.034821  ...   SS159               0.507600   \n",
       "39527              91.993624  ...   SS159               0.491039   \n",
       "39528              89.774399  ...   SS159               0.522586   \n",
       "39529              89.014223  ...   SS159               0.504741   \n",
       "\n",
       "       epidermis_counts  fat_body_counts  hemocytes_counts  midgut_counts  \\\n",
       "0                    79               20                38            109   \n",
       "1                    79               20                38            109   \n",
       "2                   102               43                37            112   \n",
       "3                   131               54                56            138   \n",
       "4                   111               43                51            110   \n",
       "...                 ...              ...               ...            ...   \n",
       "39525               102               54                83            147   \n",
       "39526               106               55                86            157   \n",
       "39527                67               31                58             95   \n",
       "39528                99               44                62             66   \n",
       "39529               104               47                63             77   \n",
       "\n",
       "       muscle_counts  nervous_system_counts  primordium_counts  qdiff_5  \n",
       "0                212                     74                213      NaN  \n",
       "1                212                     74                214      NaN  \n",
       "2                296                    132                372      NaN  \n",
       "3                402                    169                481      NaN  \n",
       "4                333                    145                405      NaN  \n",
       "...              ...                    ...                ...      ...  \n",
       "39525            326                    145                236      NaN  \n",
       "39526            338                    150                247      NaN  \n",
       "39527            154                     90                158      NaN  \n",
       "39528            290                    118                155      NaN  \n",
       "39529            303                    123                179      NaN  \n",
       "\n",
       "[39530 rows x 64 columns]"
      ]
     },
     "execution_count": 15,
     "metadata": {},
     "output_type": "execute_result"
    }
   ],
   "source": [
    "df_all"
   ]
  },
  {
   "cell_type": "markdown",
   "metadata": {},
   "source": [
    "## Determine differential lineages"
   ]
  },
  {
   "cell_type": "code",
   "execution_count": 16,
   "metadata": {},
   "outputs": [
    {
     "name": "stdout",
     "output_type": "stream",
     "text": [
      "[dali] Testing 143 regions on 1 core(s) ... \n"
     ]
    },
    {
     "name": "stderr",
     "output_type": "stream",
     "text": [
      "/icgc/dkfzlsdf/analysis/B260/users/heinent/envs/f1_analysis/lib/python3.6/site-packages/anndata/_core/anndata.py:1094: FutureWarning: is_categorical is deprecated and will be removed in a future version.  Use is_categorical_dtype instead\n",
      "  if not is_categorical(df_full[k]):\n",
      "100%|██████████| 143/143 [00:05<00:00, 24.73it/s]\n"
     ]
    },
    {
     "name": "stdout",
     "output_type": "stream",
     "text": [
      "[dali] Testing 143 regions on 1 core(s) ... \n"
     ]
    },
    {
     "name": "stderr",
     "output_type": "stream",
     "text": [
      "100%|██████████| 143/143 [00:05<00:00, 24.94it/s]\n"
     ]
    },
    {
     "name": "stdout",
     "output_type": "stream",
     "text": [
      "[dali] Testing 143 regions on 1 core(s) ... \n"
     ]
    },
    {
     "name": "stderr",
     "output_type": "stream",
     "text": [
      "100%|██████████| 143/143 [00:05<00:00, 24.92it/s]"
     ]
    },
    {
     "name": "stdout",
     "output_type": "stream",
     "text": [
      "[dali] Testing 143 regions on 1 core(s) ... \n"
     ]
    },
    {
     "name": "stderr",
     "output_type": "stream",
     "text": [
      "\n",
      "100%|██████████| 143/143 [00:05<00:00, 24.95it/s]"
     ]
    },
    {
     "name": "stdout",
     "output_type": "stream",
     "text": [
      "[dali] Testing 143 regions on 1 core(s) ... \n"
     ]
    },
    {
     "name": "stderr",
     "output_type": "stream",
     "text": [
      "\n",
      "100%|██████████| 143/143 [00:05<00:00, 25.45it/s]\n"
     ]
    },
    {
     "name": "stdout",
     "output_type": "stream",
     "text": [
      "[dali] Testing 143 regions on 1 core(s) ... \n"
     ]
    },
    {
     "name": "stderr",
     "output_type": "stream",
     "text": [
      "100%|██████████| 143/143 [00:05<00:00, 25.62it/s]"
     ]
    },
    {
     "name": "stdout",
     "output_type": "stream",
     "text": [
      "[dali] Testing 143 regions on 1 core(s) ... \n"
     ]
    },
    {
     "name": "stderr",
     "output_type": "stream",
     "text": [
      "\n",
      "100%|██████████| 143/143 [00:05<00:00, 26.00it/s]\n"
     ]
    },
    {
     "name": "stdout",
     "output_type": "stream",
     "text": [
      "[dali] Testing 114 regions on 1 core(s) ... \n"
     ]
    },
    {
     "name": "stderr",
     "output_type": "stream",
     "text": [
      "100%|██████████| 114/114 [00:03<00:00, 36.01it/s]"
     ]
    },
    {
     "name": "stdout",
     "output_type": "stream",
     "text": [
      "[dali] Testing 114 regions on 1 core(s) ... \n"
     ]
    },
    {
     "name": "stderr",
     "output_type": "stream",
     "text": [
      "\n",
      "100%|██████████| 114/114 [00:03<00:00, 35.91it/s]"
     ]
    },
    {
     "name": "stdout",
     "output_type": "stream",
     "text": [
      "[dali] Testing 114 regions on 1 core(s) ... \n"
     ]
    },
    {
     "name": "stderr",
     "output_type": "stream",
     "text": [
      "\n",
      "100%|██████████| 114/114 [00:03<00:00, 35.77it/s]"
     ]
    },
    {
     "name": "stdout",
     "output_type": "stream",
     "text": [
      "[dali] Testing 114 regions on 1 core(s) ... \n"
     ]
    },
    {
     "name": "stderr",
     "output_type": "stream",
     "text": [
      "\n",
      "100%|██████████| 114/114 [00:03<00:00, 35.97it/s]"
     ]
    },
    {
     "name": "stdout",
     "output_type": "stream",
     "text": [
      "[dali] Testing 114 regions on 1 core(s) ... \n"
     ]
    },
    {
     "name": "stderr",
     "output_type": "stream",
     "text": [
      "\n",
      "100%|██████████| 114/114 [00:03<00:00, 36.32it/s]"
     ]
    },
    {
     "name": "stdout",
     "output_type": "stream",
     "text": [
      "[dali] Testing 114 regions on 1 core(s) ... \n"
     ]
    },
    {
     "name": "stderr",
     "output_type": "stream",
     "text": [
      "\n",
      "100%|██████████| 114/114 [00:03<00:00, 36.35it/s]"
     ]
    },
    {
     "name": "stdout",
     "output_type": "stream",
     "text": [
      "[dali] Testing 114 regions on 1 core(s) ... \n"
     ]
    },
    {
     "name": "stderr",
     "output_type": "stream",
     "text": [
      "\n",
      "100%|██████████| 114/114 [00:03<00:00, 36.22it/s]"
     ]
    },
    {
     "name": "stdout",
     "output_type": "stream",
     "text": [
      "[dali] Testing 57 regions on 1 core(s) ... \n"
     ]
    },
    {
     "name": "stderr",
     "output_type": "stream",
     "text": [
      "\n",
      "100%|██████████| 57/57 [00:01<00:00, 34.13it/s]"
     ]
    },
    {
     "name": "stdout",
     "output_type": "stream",
     "text": [
      "[dali] Testing 57 regions on 1 core(s) ... \n"
     ]
    },
    {
     "name": "stderr",
     "output_type": "stream",
     "text": [
      "\n",
      "100%|██████████| 57/57 [00:01<00:00, 34.36it/s]"
     ]
    },
    {
     "name": "stdout",
     "output_type": "stream",
     "text": [
      "[dali] Testing 57 regions on 1 core(s) ... \n"
     ]
    },
    {
     "name": "stderr",
     "output_type": "stream",
     "text": [
      "\n",
      "100%|██████████| 57/57 [00:01<00:00, 34.32it/s]"
     ]
    },
    {
     "name": "stdout",
     "output_type": "stream",
     "text": [
      "[dali] Testing 57 regions on 1 core(s) ... \n"
     ]
    },
    {
     "name": "stderr",
     "output_type": "stream",
     "text": [
      "\n",
      "100%|██████████| 57/57 [00:01<00:00, 34.40it/s]"
     ]
    },
    {
     "name": "stdout",
     "output_type": "stream",
     "text": [
      "[dali] Testing 57 regions on 1 core(s) ... \n"
     ]
    },
    {
     "name": "stderr",
     "output_type": "stream",
     "text": [
      "\n",
      "100%|██████████| 57/57 [00:01<00:00, 34.35it/s]"
     ]
    },
    {
     "name": "stdout",
     "output_type": "stream",
     "text": [
      "[dali] Testing 57 regions on 1 core(s) ... \n"
     ]
    },
    {
     "name": "stderr",
     "output_type": "stream",
     "text": [
      "\n",
      "100%|██████████| 57/57 [00:01<00:00, 33.83it/s]"
     ]
    },
    {
     "name": "stdout",
     "output_type": "stream",
     "text": [
      "[dali] Testing 57 regions on 1 core(s) ... \n"
     ]
    },
    {
     "name": "stderr",
     "output_type": "stream",
     "text": [
      "\n",
      "100%|██████████| 57/57 [00:01<00:00, 34.55it/s]\n"
     ]
    },
    {
     "name": "stdout",
     "output_type": "stream",
     "text": [
      "[dali] Testing 101 regions on 1 core(s) ... \n"
     ]
    },
    {
     "name": "stderr",
     "output_type": "stream",
     "text": [
      "100%|██████████| 101/101 [00:02<00:00, 40.53it/s]"
     ]
    },
    {
     "name": "stdout",
     "output_type": "stream",
     "text": [
      "[dali] Testing 101 regions on 1 core(s) ... \n"
     ]
    },
    {
     "name": "stderr",
     "output_type": "stream",
     "text": [
      "\n",
      "100%|██████████| 101/101 [00:02<00:00, 40.65it/s]"
     ]
    },
    {
     "name": "stdout",
     "output_type": "stream",
     "text": [
      "[dali] Testing 101 regions on 1 core(s) ... \n"
     ]
    },
    {
     "name": "stderr",
     "output_type": "stream",
     "text": [
      "\n",
      "100%|██████████| 101/101 [00:02<00:00, 41.01it/s]"
     ]
    },
    {
     "name": "stdout",
     "output_type": "stream",
     "text": [
      "[dali] Testing 101 regions on 1 core(s) ... \n"
     ]
    },
    {
     "name": "stderr",
     "output_type": "stream",
     "text": [
      "\n",
      "100%|██████████| 101/101 [00:02<00:00, 40.54it/s]"
     ]
    },
    {
     "name": "stdout",
     "output_type": "stream",
     "text": [
      "[dali] Testing 101 regions on 1 core(s) ... \n"
     ]
    },
    {
     "name": "stderr",
     "output_type": "stream",
     "text": [
      "\n",
      "100%|██████████| 101/101 [00:02<00:00, 41.46it/s]"
     ]
    },
    {
     "name": "stdout",
     "output_type": "stream",
     "text": [
      "[dali] Testing 101 regions on 1 core(s) ... \n"
     ]
    },
    {
     "name": "stderr",
     "output_type": "stream",
     "text": [
      "\n",
      "100%|██████████| 101/101 [00:02<00:00, 40.68it/s]"
     ]
    },
    {
     "name": "stdout",
     "output_type": "stream",
     "text": [
      "[dali] Testing 101 regions on 1 core(s) ... \n"
     ]
    },
    {
     "name": "stderr",
     "output_type": "stream",
     "text": [
      "\n",
      "100%|██████████| 101/101 [00:02<00:00, 41.00it/s]\n"
     ]
    }
   ],
   "source": [
    "lineage_diff_pvals = pd.DataFrame()\n",
    "\n",
    "for exp_id, adata in adatas_allelic.items():\n",
    "    # only consider significantly variable peaks\n",
    "    adata = adata[:, adata.var.query('%s_bh < 0.1' % DALIHET_PVAL).index]\n",
    "    sub_df = pd.DataFrame(index = adata.var_names)\n",
    "    for lineage in lineages:\n",
    "        cell_state = pd.get_dummies(adata.obs['annotation'] == lineage)\n",
    "        sub_df[lineage] = run_dali(\n",
    "            A=adata.X.A, \n",
    "            D=adata.layers['allelic_total'].A, \n",
    "            cell_state=cell_state)['pvalues']\n",
    "        \n",
    "    sub_df = sub_df.reset_index().rename(columns={'index': 'peak'})\n",
    "    sub_df['exp_id'] = exp_id\n",
    "    \n",
    "    lineage_diff_pvals = pd.concat([lineage_diff_pvals, sub_df])"
   ]
  },
  {
   "cell_type": "code",
   "execution_count": 17,
   "metadata": {},
   "outputs": [],
   "source": [
    "lineage_diff_pvals_adjusted = lineage_diff_pvals.copy()\n",
    "lineage_diff_pvals_adjusted[lineages] = apply_fdr_bh(lineage_diff_pvals_adjusted[lineages].to_numpy().flatten()).reshape((lineage_diff_pvals.shape[0], len(lineages)))"
   ]
  },
  {
   "cell_type": "code",
   "execution_count": 18,
   "metadata": {},
   "outputs": [],
   "source": [
    "df_all = pd.merge(df_all, lineage_diff_pvals.rename(lineage_var_formatter('diff_pval'), axis=1), left_on=['peak', 'exp_id'], right_on=['peak', 'exp_id'], how='outer')\n",
    "df_all = pd.merge(df_all, lineage_diff_pvals_adjusted.rename(lineage_var_formatter('diff_pval_bh'), axis=1), left_on=['peak', 'exp_id'], right_on=['peak', 'exp_id'], how='outer')"
   ]
  },
  {
   "cell_type": "code",
   "execution_count": 19,
   "metadata": {},
   "outputs": [],
   "source": [
    "lineage_diff_pvals_thresholded = lineage_diff_pvals_adjusted.copy()\n",
    "lineage_diff_pvals_thresholded[lineages] = lineage_diff_pvals_thresholded[lineages] < .1\n",
    "\n",
    "n_diff_by_peak = pd.DataFrame({\n",
    "    'n_diff_lineages': lineage_diff_pvals_thresholded[lineages].sum(1),\n",
    "    'exp_id': lineage_diff_pvals_adjusted['exp_id']\n",
    "})\n",
    "n_diff_by_lineage = lineage_diff_pvals_thresholded.groupby('exp_id').sum(0).drop('peak', 1).reset_index()\n",
    "n_diff_by_lineage = n_diff_by_lineage.melt(id_vars=['exp_id'], var_name='Lineage', value_name='Peak count')"
   ]
  },
  {
   "cell_type": "markdown",
   "metadata": {},
   "source": [
    "## Determine imbalanced lineages"
   ]
  },
  {
   "cell_type": "code",
   "execution_count": 20,
   "metadata": {},
   "outputs": [
    {
     "name": "stdout",
     "output_type": "stream",
     "text": [
      "[dali] Testing 143 regions on 1 core(s) ... \n"
     ]
    },
    {
     "name": "stderr",
     "output_type": "stream",
     "text": [
      "/icgc/dkfzlsdf/analysis/B260/users/heinent/envs/f1_analysis/lib/python3.6/site-packages/anndata/_core/anndata.py:1094: FutureWarning: is_categorical is deprecated and will be removed in a future version.  Use is_categorical_dtype instead\n",
      "  if not is_categorical(df_full[k]):\n",
      " 52%|█████▏    | 74/143 [00:01<00:01, 62.36it/s]"
     ]
    },
    {
     "name": "stdout",
     "output_type": "stream",
     "text": [
      "Overdispersion estimate out of bounds. Reverting to Binomial LRT.\n"
     ]
    },
    {
     "name": "stderr",
     "output_type": "stream",
     "text": [
      " 80%|███████▉  | 114/143 [00:01<00:00, 55.79it/s]"
     ]
    },
    {
     "name": "stdout",
     "output_type": "stream",
     "text": [
      "Overdispersion estimate out of bounds. Reverting to Binomial LRT.\n"
     ]
    },
    {
     "name": "stderr",
     "output_type": "stream",
     "text": [
      "100%|██████████| 143/143 [00:02<00:00, 59.13it/s]"
     ]
    },
    {
     "name": "stdout",
     "output_type": "stream",
     "text": [
      "[dali] Testing 143 regions on 1 core(s) ... \n"
     ]
    },
    {
     "name": "stderr",
     "output_type": "stream",
     "text": [
      "\n",
      "  6%|▋         | 9/143 [00:00<00:01, 79.62it/s]"
     ]
    },
    {
     "name": "stdout",
     "output_type": "stream",
     "text": [
      "Overdispersion estimate out of bounds. Reverting to Binomial LRT.\n",
      "Overdispersion estimate out of bounds. Reverting to Binomial LRT.\n",
      "Overdispersion estimate out of bounds. Reverting to Binomial LRT.\n"
     ]
    },
    {
     "name": "stderr",
     "output_type": "stream",
     "text": [
      " 41%|████▏     | 59/143 [00:00<00:01, 70.01it/s]"
     ]
    },
    {
     "name": "stdout",
     "output_type": "stream",
     "text": [
      "Overdispersion estimate out of bounds. Reverting to Binomial LRT.\n",
      "Overdispersion estimate out of bounds. Reverting to Binomial LRT.\n",
      "Overdispersion estimate out of bounds. Reverting to Binomial LRT.\n",
      "Overdispersion estimate out of bounds. Reverting to Binomial LRT.\n",
      "Overdispersion estimate out of bounds. Reverting to Binomial LRT.\n",
      "Overdispersion estimate out of bounds. Reverting to Binomial LRT.\n"
     ]
    },
    {
     "name": "stderr",
     "output_type": "stream",
     "text": [
      " 59%|█████▉    | 85/143 [00:01<00:00, 71.40it/s]"
     ]
    },
    {
     "name": "stdout",
     "output_type": "stream",
     "text": [
      "Overdispersion estimate out of bounds. Reverting to Binomial LRT.\n",
      "Overdispersion estimate out of bounds. Reverting to Binomial LRT.\n",
      "Overdispersion estimate out of bounds. Reverting to Binomial LRT.\n"
     ]
    },
    {
     "name": "stderr",
     "output_type": "stream",
     "text": [
      " 71%|███████▏  | 102/143 [00:01<00:00, 68.82it/s]"
     ]
    },
    {
     "name": "stdout",
     "output_type": "stream",
     "text": [
      "Overdispersion estimate out of bounds. Reverting to Binomial LRT.\n",
      "Overdispersion estimate out of bounds. Reverting to Binomial LRT.\n",
      "Overdispersion estimate out of bounds. Reverting to Binomial LRT.\n",
      "Overdispersion estimate out of bounds. Reverting to Binomial LRT.\n",
      "Overdispersion estimate out of bounds. Reverting to Binomial LRT.\n",
      "Overdispersion estimate out of bounds. Reverting to Binomial LRT.\n",
      "Overdispersion estimate out of bounds. Reverting to Binomial LRT.\n",
      "Overdispersion estimate out of bounds. Reverting to Binomial LRT.\n",
      "Overdispersion estimate out of bounds. Reverting to Binomial LRT.\n"
     ]
    },
    {
     "name": "stderr",
     "output_type": "stream",
     "text": [
      "100%|██████████| 143/143 [00:02<00:00, 71.10it/s]"
     ]
    },
    {
     "name": "stdout",
     "output_type": "stream",
     "text": [
      "Overdispersion estimate out of bounds. Reverting to Binomial LRT.\n",
      "Overdispersion estimate out of bounds. Reverting to Binomial LRT.\n",
      "Overdispersion estimate out of bounds. Reverting to Binomial LRT.\n",
      "[dali] Testing 143 regions on 1 core(s) ... \n"
     ]
    },
    {
     "name": "stderr",
     "output_type": "stream",
     "text": [
      "\n",
      "  0%|          | 0/143 [00:00<?, ?it/s]"
     ]
    },
    {
     "name": "stdout",
     "output_type": "stream",
     "text": [
      "Overdispersion estimate out of bounds. Reverting to Binomial LRT.\n"
     ]
    },
    {
     "name": "stderr",
     "output_type": "stream",
     "text": [
      " 13%|█▎        | 19/143 [00:00<00:01, 75.37it/s]"
     ]
    },
    {
     "name": "stdout",
     "output_type": "stream",
     "text": [
      "Overdispersion estimate out of bounds. Reverting to Binomial LRT.\n",
      "Overdispersion estimate out of bounds. Reverting to Binomial LRT.\n",
      "Overdispersion estimate out of bounds. Reverting to Binomial LRT.\n",
      "Overdispersion estimate out of bounds. Reverting to Binomial LRT.\n",
      "Overdispersion estimate out of bounds. Reverting to Binomial LRT.\n"
     ]
    },
    {
     "name": "stderr",
     "output_type": "stream",
     "text": [
      " 34%|███▎      | 48/143 [00:00<00:01, 67.82it/s]"
     ]
    },
    {
     "name": "stdout",
     "output_type": "stream",
     "text": [
      "Overdispersion estimate out of bounds. Reverting to Binomial LRT.\n",
      "Overdispersion estimate out of bounds. Reverting to Binomial LRT.\n",
      "Overdispersion estimate out of bounds. Reverting to Binomial LRT.\n",
      "Overdispersion estimate out of bounds. Reverting to Binomial LRT.\n"
     ]
    },
    {
     "name": "stderr",
     "output_type": "stream",
     "text": [
      " 46%|████▌     | 66/143 [00:00<00:01, 75.12it/s]"
     ]
    },
    {
     "name": "stdout",
     "output_type": "stream",
     "text": [
      "Overdispersion estimate out of bounds. Reverting to Binomial LRT.\n",
      "Overdispersion estimate out of bounds. Reverting to Binomial LRT.\n",
      "Overdispersion estimate out of bounds. Reverting to Binomial LRT.\n",
      "Overdispersion estimate out of bounds. Reverting to Binomial LRT.\n",
      "Overdispersion estimate out of bounds. Reverting to Binomial LRT.\n",
      "Overdispersion estimate out of bounds. Reverting to Binomial LRT.\n",
      "Overdispersion estimate out of bounds. Reverting to Binomial LRT.\n"
     ]
    },
    {
     "name": "stderr",
     "output_type": "stream",
     "text": [
      " 66%|██████▌   | 94/143 [00:01<00:00, 84.52it/s]"
     ]
    },
    {
     "name": "stdout",
     "output_type": "stream",
     "text": [
      "Overdispersion estimate out of bounds. Reverting to Binomial LRT.\n",
      "Overdispersion estimate out of bounds. Reverting to Binomial LRT.\n",
      "Overdispersion estimate out of bounds. Reverting to Binomial LRT.\n",
      "Overdispersion estimate out of bounds. Reverting to Binomial LRT.\n",
      "Overdispersion estimate out of bounds. Reverting to Binomial LRT.\n",
      "Overdispersion estimate out of bounds. Reverting to Binomial LRT.\n"
     ]
    },
    {
     "name": "stderr",
     "output_type": "stream",
     "text": [
      " 78%|███████▊  | 111/143 [00:01<00:00, 63.52it/s]"
     ]
    },
    {
     "name": "stdout",
     "output_type": "stream",
     "text": [
      "Overdispersion estimate out of bounds. Reverting to Binomial LRT.\n",
      "Overdispersion estimate out of bounds. Reverting to Binomial LRT.\n",
      "Overdispersion estimate out of bounds. Reverting to Binomial LRT.\n"
     ]
    },
    {
     "name": "stderr",
     "output_type": "stream",
     "text": [
      " 91%|█████████ | 130/143 [00:01<00:00, 71.17it/s]"
     ]
    },
    {
     "name": "stdout",
     "output_type": "stream",
     "text": [
      "Overdispersion estimate out of bounds. Reverting to Binomial LRT.\n",
      "Overdispersion estimate out of bounds. Reverting to Binomial LRT.\n",
      "Overdispersion estimate out of bounds. Reverting to Binomial LRT.\n",
      "Overdispersion estimate out of bounds. Reverting to Binomial LRT.\n"
     ]
    },
    {
     "name": "stderr",
     "output_type": "stream",
     "text": [
      "100%|██████████| 143/143 [00:01<00:00, 72.24it/s]"
     ]
    },
    {
     "name": "stdout",
     "output_type": "stream",
     "text": [
      "Overdispersion estimate out of bounds. Reverting to Binomial LRT.\n",
      "Overdispersion estimate out of bounds. Reverting to Binomial LRT.\n",
      "[dali] Testing 143 regions on 1 core(s) ... \n"
     ]
    },
    {
     "name": "stderr",
     "output_type": "stream",
     "text": [
      "\n",
      " 69%|██████▉   | 99/143 [00:02<00:00, 53.47it/s]"
     ]
    },
    {
     "name": "stdout",
     "output_type": "stream",
     "text": [
      "Overdispersion estimate out of bounds. Reverting to Binomial LRT.\n"
     ]
    },
    {
     "name": "stderr",
     "output_type": "stream",
     "text": [
      "100%|██████████| 143/143 [00:02<00:00, 50.53it/s]\n"
     ]
    },
    {
     "name": "stdout",
     "output_type": "stream",
     "text": [
      "Overdispersion estimate out of bounds. Reverting to Binomial LRT.\n",
      "Overdispersion estimate out of bounds. Reverting to Binomial LRT.\n",
      "[dali] Testing 143 regions on 1 core(s) ... \n"
     ]
    },
    {
     "name": "stderr",
     "output_type": "stream",
     "text": [
      "100%|██████████| 143/143 [00:03<00:00, 38.20it/s]"
     ]
    },
    {
     "name": "stdout",
     "output_type": "stream",
     "text": [
      "[dali] Testing 143 regions on 1 core(s) ... \n"
     ]
    },
    {
     "name": "stderr",
     "output_type": "stream",
     "text": [
      "\n",
      "  5%|▍         | 7/143 [00:00<00:02, 61.45it/s]"
     ]
    },
    {
     "name": "stdout",
     "output_type": "stream",
     "text": [
      "Overdispersion estimate out of bounds. Reverting to Binomial LRT.\n"
     ]
    },
    {
     "name": "stderr",
     "output_type": "stream",
     "text": [
      " 58%|█████▊    | 83/143 [00:01<00:01, 57.48it/s]"
     ]
    },
    {
     "name": "stdout",
     "output_type": "stream",
     "text": [
      "Overdispersion estimate out of bounds. Reverting to Binomial LRT.\n",
      "Overdispersion estimate out of bounds. Reverting to Binomial LRT.\n"
     ]
    },
    {
     "name": "stderr",
     "output_type": "stream",
     "text": [
      " 66%|██████▋   | 95/143 [00:01<00:00, 53.75it/s]"
     ]
    },
    {
     "name": "stdout",
     "output_type": "stream",
     "text": [
      "Overdispersion estimate out of bounds. Reverting to Binomial LRT.\n",
      "Overdispersion estimate out of bounds. Reverting to Binomial LRT.\n"
     ]
    },
    {
     "name": "stderr",
     "output_type": "stream",
     "text": [
      " 84%|████████▍ | 120/143 [00:02<00:00, 51.67it/s]"
     ]
    },
    {
     "name": "stdout",
     "output_type": "stream",
     "text": [
      "Overdispersion estimate out of bounds. Reverting to Binomial LRT.\n"
     ]
    },
    {
     "name": "stderr",
     "output_type": "stream",
     "text": [
      "100%|██████████| 143/143 [00:02<00:00, 53.01it/s]"
     ]
    },
    {
     "name": "stdout",
     "output_type": "stream",
     "text": [
      "[dali] Testing 143 regions on 1 core(s) ... \n"
     ]
    },
    {
     "name": "stderr",
     "output_type": "stream",
     "text": [
      "\n",
      "100%|██████████| 143/143 [00:04<00:00, 30.57it/s]\n"
     ]
    },
    {
     "name": "stdout",
     "output_type": "stream",
     "text": [
      "[dali] Testing 114 regions on 1 core(s) ... \n"
     ]
    },
    {
     "name": "stderr",
     "output_type": "stream",
     "text": [
      "  8%|▊         | 9/114 [00:00<00:01, 81.01it/s]"
     ]
    },
    {
     "name": "stdout",
     "output_type": "stream",
     "text": [
      "Overdispersion estimate out of bounds. Reverting to Binomial LRT.\n",
      "Overdispersion estimate out of bounds. Reverting to Binomial LRT.\n",
      "Overdispersion estimate out of bounds. Reverting to Binomial LRT.\n",
      "Overdispersion estimate out of bounds. Reverting to Binomial LRT.\n",
      "Overdispersion estimate out of bounds. Reverting to Binomial LRT.\n",
      "Overdispersion estimate out of bounds. Reverting to Binomial LRT.\n"
     ]
    },
    {
     "name": "stderr",
     "output_type": "stream",
     "text": [
      " 33%|███▎      | 38/114 [00:00<00:00, 79.65it/s]"
     ]
    },
    {
     "name": "stdout",
     "output_type": "stream",
     "text": [
      "Overdispersion estimate out of bounds. Reverting to Binomial LRT.\n",
      "Overdispersion estimate out of bounds. Reverting to Binomial LRT.\n",
      "Overdispersion estimate out of bounds. Reverting to Binomial LRT.\n",
      "Overdispersion estimate out of bounds. Reverting to Binomial LRT.\n"
     ]
    },
    {
     "name": "stderr",
     "output_type": "stream",
     "text": [
      " 55%|█████▌    | 63/114 [00:00<00:00, 77.43it/s]"
     ]
    },
    {
     "name": "stdout",
     "output_type": "stream",
     "text": [
      "Overdispersion estimate out of bounds. Reverting to Binomial LRT.\n",
      "Overdispersion estimate out of bounds. Reverting to Binomial LRT.\n",
      "Overdispersion estimate out of bounds. Reverting to Binomial LRT.\n",
      "Overdispersion estimate out of bounds. Reverting to Binomial LRT.\n",
      "Overdispersion estimate out of bounds. Reverting to Binomial LRT.\n",
      "Overdispersion estimate out of bounds. Reverting to Binomial LRT.\n",
      "Overdispersion estimate out of bounds. Reverting to Binomial LRT.\n",
      "Overdispersion estimate out of bounds. Reverting to Binomial LRT.\n",
      "Overdispersion estimate out of bounds. Reverting to Binomial LRT.\n",
      "Overdispersion estimate out of bounds. Reverting to Binomial LRT.\n",
      "Overdispersion estimate out of bounds. Reverting to Binomial LRT.\n"
     ]
    },
    {
     "name": "stderr",
     "output_type": "stream",
     "text": [
      " 84%|████████▍ | 96/114 [00:01<00:00, 66.67it/s]"
     ]
    },
    {
     "name": "stdout",
     "output_type": "stream",
     "text": [
      "Overdispersion estimate out of bounds. Reverting to Binomial LRT.\n",
      "Overdispersion estimate out of bounds. Reverting to Binomial LRT.\n",
      "Overdispersion estimate out of bounds. Reverting to Binomial LRT.\n",
      "Overdispersion estimate out of bounds. Reverting to Binomial LRT.\n"
     ]
    },
    {
     "name": "stderr",
     "output_type": "stream",
     "text": [
      "100%|██████████| 114/114 [00:01<00:00, 69.79it/s]\n"
     ]
    },
    {
     "name": "stdout",
     "output_type": "stream",
     "text": [
      "Overdispersion estimate out of bounds. Reverting to Binomial LRT.\n",
      "[dali] Testing 114 regions on 1 core(s) ... \n"
     ]
    },
    {
     "name": "stderr",
     "output_type": "stream",
     "text": [
      " 10%|▉         | 11/114 [00:00<00:00, 107.78it/s]"
     ]
    },
    {
     "name": "stdout",
     "output_type": "stream",
     "text": [
      "Overdispersion estimate out of bounds. Reverting to Binomial LRT.\n",
      "Overdispersion estimate out of bounds. Reverting to Binomial LRT.\n",
      "Overdispersion estimate out of bounds. Reverting to Binomial LRT.\n",
      "Overdispersion estimate out of bounds. Reverting to Binomial LRT.\n",
      "Overdispersion estimate out of bounds. Reverting to Binomial LRT.\n",
      "Overdispersion estimate out of bounds. Reverting to Binomial LRT.\n"
     ]
    },
    {
     "name": "stderr",
     "output_type": "stream",
     "text": [
      " 27%|██▋       | 31/114 [00:00<00:00, 94.34it/s] "
     ]
    },
    {
     "name": "stdout",
     "output_type": "stream",
     "text": [
      "Overdispersion estimate out of bounds. Reverting to Binomial LRT.\n",
      "Overdispersion estimate out of bounds. Reverting to Binomial LRT.\n",
      "Overdispersion estimate out of bounds. Reverting to Binomial LRT.\n",
      "Overdispersion estimate out of bounds. Reverting to Binomial LRT.\n",
      "Overdispersion estimate out of bounds. Reverting to Binomial LRT.\n",
      "Overdispersion estimate out of bounds. Reverting to Binomial LRT.\n",
      "Overdispersion estimate out of bounds. Reverting to Binomial LRT.\n",
      "Overdispersion estimate out of bounds. Reverting to Binomial LRT.\n",
      "Overdispersion estimate out of bounds. Reverting to Binomial LRT.\n",
      "Overdispersion estimate out of bounds. Reverting to Binomial LRT.\n",
      "Overdispersion estimate out of bounds. Reverting to Binomial LRT.\n",
      "Overdispersion estimate out of bounds. Reverting to Binomial LRT.\n",
      "Overdispersion estimate out of bounds. Reverting to Binomial LRT.\n",
      "Overdispersion estimate out of bounds. Reverting to Binomial LRT.\n",
      "Overdispersion estimate out of bounds. Reverting to Binomial LRT.\n",
      "Overdispersion estimate out of bounds. Reverting to Binomial LRT.\n",
      "Overdispersion estimate out of bounds. Reverting to Binomial LRT.\n",
      "Overdispersion estimate out of bounds. Reverting to Binomial LRT.\n"
     ]
    },
    {
     "name": "stderr",
     "output_type": "stream",
     "text": [
      " 57%|█████▋    | 65/114 [00:00<00:00, 83.63it/s] "
     ]
    },
    {
     "name": "stdout",
     "output_type": "stream",
     "text": [
      "Overdispersion estimate out of bounds. Reverting to Binomial LRT.\n",
      "Overdispersion estimate out of bounds. Reverting to Binomial LRT.\n",
      "Overdispersion estimate out of bounds. Reverting to Binomial LRT.\n",
      "Overdispersion estimate out of bounds. Reverting to Binomial LRT.\n",
      "Overdispersion estimate out of bounds. Reverting to Binomial LRT.\n",
      "Overdispersion estimate out of bounds. Reverting to Binomial LRT.\n",
      "Overdispersion estimate out of bounds. Reverting to Binomial LRT.\n"
     ]
    },
    {
     "name": "stderr",
     "output_type": "stream",
     "text": [
      " 89%|████████▊ | 101/114 [00:01<00:00, 75.96it/s]"
     ]
    },
    {
     "name": "stdout",
     "output_type": "stream",
     "text": [
      "Overdispersion estimate out of bounds. Reverting to Binomial LRT.\n",
      "Overdispersion estimate out of bounds. Reverting to Binomial LRT.\n",
      "Overdispersion estimate out of bounds. Reverting to Binomial LRT.\n",
      "Overdispersion estimate out of bounds. Reverting to Binomial LRT.\n",
      "Overdispersion estimate out of bounds. Reverting to Binomial LRT.\n",
      "Overdispersion estimate out of bounds. Reverting to Binomial LRT.\n",
      "Overdispersion estimate out of bounds. Reverting to Binomial LRT.\n",
      "Overdispersion estimate out of bounds. Reverting to Binomial LRT.\n",
      "Overdispersion estimate out of bounds. Reverting to Binomial LRT.\n",
      "Overdispersion estimate out of bounds. Reverting to Binomial LRT.\n",
      "Overdispersion estimate out of bounds. Reverting to Binomial LRT.\n",
      "Overdispersion estimate out of bounds. Reverting to Binomial LRT.\n",
      "Overdispersion estimate out of bounds. Reverting to Binomial LRT.\n",
      "Overdispersion estimate out of bounds. Reverting to Binomial LRT.\n",
      "Overdispersion estimate out of bounds. Reverting to Binomial LRT.\n",
      "Overdispersion estimate out of bounds. Reverting to Binomial LRT.\n",
      "Overdispersion estimate out of bounds. Reverting to Binomial LRT.\n",
      "Overdispersion estimate out of bounds. Reverting to Binomial LRT.\n",
      "Overdispersion estimate out of bounds. Reverting to Binomial LRT.\n",
      "Overdispersion estimate out of bounds. Reverting to Binomial LRT.\n"
     ]
    },
    {
     "name": "stderr",
     "output_type": "stream",
     "text": [
      "100%|██████████| 114/114 [00:01<00:00, 89.87it/s]"
     ]
    },
    {
     "name": "stdout",
     "output_type": "stream",
     "text": [
      "Overdispersion estimate out of bounds. Reverting to Binomial LRT.\n",
      "Overdispersion estimate out of bounds. Reverting to Binomial LRT.\n",
      "Overdispersion estimate out of bounds. Reverting to Binomial LRT.\n",
      "Overdispersion estimate out of bounds. Reverting to Binomial LRT.\n",
      "[dali] Testing 114 regions on 1 core(s) ... \n"
     ]
    },
    {
     "name": "stderr",
     "output_type": "stream",
     "text": [
      "\n",
      "  8%|▊         | 9/114 [00:00<00:01, 84.95it/s]"
     ]
    },
    {
     "name": "stdout",
     "output_type": "stream",
     "text": [
      "Overdispersion estimate out of bounds. Reverting to Binomial LRT.\n",
      "Overdispersion estimate out of bounds. Reverting to Binomial LRT.\n",
      "Overdispersion estimate out of bounds. Reverting to Binomial LRT.\n"
     ]
    },
    {
     "name": "stderr",
     "output_type": "stream",
     "text": [
      " 16%|█▌        | 18/114 [00:00<00:01, 84.54it/s]"
     ]
    },
    {
     "name": "stdout",
     "output_type": "stream",
     "text": [
      "Overdispersion estimate out of bounds. Reverting to Binomial LRT.\n"
     ]
    },
    {
     "name": "stderr",
     "output_type": "stream",
     "text": [
      " 23%|██▎       | 26/114 [00:00<00:01, 79.94it/s]"
     ]
    },
    {
     "name": "stdout",
     "output_type": "stream",
     "text": [
      "Overdispersion estimate out of bounds. Reverting to Binomial LRT.\n"
     ]
    },
    {
     "name": "stderr",
     "output_type": "stream",
     "text": [
      " 28%|██▊       | 32/114 [00:00<00:01, 71.42it/s]"
     ]
    },
    {
     "name": "stdout",
     "output_type": "stream",
     "text": [
      "Overdispersion estimate out of bounds. Reverting to Binomial LRT.\n",
      "Overdispersion estimate out of bounds. Reverting to Binomial LRT.\n",
      "Overdispersion estimate out of bounds. Reverting to Binomial LRT.\n",
      "Overdispersion estimate out of bounds. Reverting to Binomial LRT.\n"
     ]
    },
    {
     "name": "stderr",
     "output_type": "stream",
     "text": [
      " 38%|███▊      | 43/114 [00:00<00:00, 77.63it/s]"
     ]
    },
    {
     "name": "stdout",
     "output_type": "stream",
     "text": [
      "Overdispersion estimate out of bounds. Reverting to Binomial LRT.\n",
      "Overdispersion estimate out of bounds. Reverting to Binomial LRT.\n"
     ]
    },
    {
     "name": "stderr",
     "output_type": "stream",
     "text": [
      " 59%|█████▉    | 67/114 [00:01<00:01, 33.46it/s]"
     ]
    },
    {
     "name": "stdout",
     "output_type": "stream",
     "text": [
      "Overdispersion estimate out of bounds. Reverting to Binomial LRT.\n",
      "Overdispersion estimate out of bounds. Reverting to Binomial LRT.\n",
      "Overdispersion estimate out of bounds. Reverting to Binomial LRT.\n",
      "Overdispersion estimate out of bounds. Reverting to Binomial LRT.\n",
      "Overdispersion estimate out of bounds. Reverting to Binomial LRT.\n",
      "Overdispersion estimate out of bounds. Reverting to Binomial LRT.\n"
     ]
    },
    {
     "name": "stderr",
     "output_type": "stream",
     "text": [
      " 80%|███████▉  | 91/114 [00:01<00:00, 52.85it/s]"
     ]
    },
    {
     "name": "stdout",
     "output_type": "stream",
     "text": [
      "Overdispersion estimate out of bounds. Reverting to Binomial LRT.\n",
      "Overdispersion estimate out of bounds. Reverting to Binomial LRT.\n",
      "Overdispersion estimate out of bounds. Reverting to Binomial LRT.\n"
     ]
    },
    {
     "name": "stderr",
     "output_type": "stream",
     "text": [
      "100%|██████████| 114/114 [00:02<00:00, 50.87it/s]"
     ]
    },
    {
     "name": "stdout",
     "output_type": "stream",
     "text": [
      "Overdispersion estimate out of bounds. Reverting to Binomial LRT.\n",
      "Overdispersion estimate out of bounds. Reverting to Binomial LRT.\n",
      "Overdispersion estimate out of bounds. Reverting to Binomial LRT.\n",
      "Overdispersion estimate out of bounds. Reverting to Binomial LRT.\n",
      "Overdispersion estimate out of bounds. Reverting to Binomial LRT.\n",
      "Overdispersion estimate out of bounds. Reverting to Binomial LRT.\n",
      "Overdispersion estimate out of bounds. Reverting to Binomial LRT.\n",
      "Overdispersion estimate out of bounds. Reverting to Binomial LRT.\n"
     ]
    },
    {
     "name": "stderr",
     "output_type": "stream",
     "text": [
      "\n"
     ]
    },
    {
     "name": "stdout",
     "output_type": "stream",
     "text": [
      "[dali] Testing 114 regions on 1 core(s) ... \n"
     ]
    },
    {
     "name": "stderr",
     "output_type": "stream",
     "text": [
      "  6%|▌         | 7/114 [00:00<00:01, 65.91it/s]"
     ]
    },
    {
     "name": "stdout",
     "output_type": "stream",
     "text": [
      "Overdispersion estimate out of bounds. Reverting to Binomial LRT.\n"
     ]
    },
    {
     "name": "stderr",
     "output_type": "stream",
     "text": [
      " 36%|███▌      | 41/114 [00:00<00:01, 63.64it/s]"
     ]
    },
    {
     "name": "stdout",
     "output_type": "stream",
     "text": [
      "Overdispersion estimate out of bounds. Reverting to Binomial LRT.\n",
      "Overdispersion estimate out of bounds. Reverting to Binomial LRT.\n",
      "Overdispersion estimate out of bounds. Reverting to Binomial LRT.\n"
     ]
    },
    {
     "name": "stderr",
     "output_type": "stream",
     "text": [
      " 73%|███████▎  | 83/114 [00:01<00:00, 64.99it/s]"
     ]
    },
    {
     "name": "stdout",
     "output_type": "stream",
     "text": [
      "Overdispersion estimate out of bounds. Reverting to Binomial LRT.\n"
     ]
    },
    {
     "name": "stderr",
     "output_type": "stream",
     "text": [
      " 84%|████████▍ | 96/114 [00:01<00:00, 57.55it/s]"
     ]
    },
    {
     "name": "stdout",
     "output_type": "stream",
     "text": [
      "Overdispersion estimate out of bounds. Reverting to Binomial LRT.\n"
     ]
    },
    {
     "name": "stderr",
     "output_type": "stream",
     "text": [
      "100%|██████████| 114/114 [00:01<00:00, 62.52it/s]"
     ]
    },
    {
     "name": "stdout",
     "output_type": "stream",
     "text": [
      "Overdispersion estimate out of bounds. Reverting to Binomial LRT.\n",
      "Overdispersion estimate out of bounds. Reverting to Binomial LRT.\n",
      "Overdispersion estimate out of bounds. Reverting to Binomial LRT.\n",
      "Overdispersion estimate out of bounds. Reverting to Binomial LRT.\n",
      "[dali] Testing 114 regions on 1 core(s) ... \n"
     ]
    },
    {
     "name": "stderr",
     "output_type": "stream",
     "text": [
      "\n",
      " 15%|█▍        | 17/114 [00:00<00:02, 46.44it/s]"
     ]
    },
    {
     "name": "stdout",
     "output_type": "stream",
     "text": [
      "Overdispersion estimate out of bounds. Reverting to Binomial LRT.\n",
      "Overdispersion estimate out of bounds. Reverting to Binomial LRT.\n"
     ]
    },
    {
     "name": "stderr",
     "output_type": "stream",
     "text": [
      "100%|██████████| 114/114 [00:02<00:00, 42.06it/s]"
     ]
    },
    {
     "name": "stdout",
     "output_type": "stream",
     "text": [
      "[dali] Testing 114 regions on 1 core(s) ... \n"
     ]
    },
    {
     "name": "stderr",
     "output_type": "stream",
     "text": [
      "\n",
      "  8%|▊         | 9/114 [00:00<00:01, 76.84it/s]"
     ]
    },
    {
     "name": "stdout",
     "output_type": "stream",
     "text": [
      "Overdispersion estimate out of bounds. Reverting to Binomial LRT.\n",
      "Overdispersion estimate out of bounds. Reverting to Binomial LRT.\n"
     ]
    },
    {
     "name": "stderr",
     "output_type": "stream",
     "text": [
      " 16%|█▌        | 18/114 [00:00<00:01, 79.05it/s]"
     ]
    },
    {
     "name": "stdout",
     "output_type": "stream",
     "text": [
      "Overdispersion estimate out of bounds. Reverting to Binomial LRT.\n"
     ]
    },
    {
     "name": "stderr",
     "output_type": "stream",
     "text": [
      " 37%|███▋      | 42/114 [00:00<00:01, 61.59it/s]"
     ]
    },
    {
     "name": "stdout",
     "output_type": "stream",
     "text": [
      "Overdispersion estimate out of bounds. Reverting to Binomial LRT.\n",
      "Overdispersion estimate out of bounds. Reverting to Binomial LRT.\n",
      "Overdispersion estimate out of bounds. Reverting to Binomial LRT.\n"
     ]
    },
    {
     "name": "stderr",
     "output_type": "stream",
     "text": [
      " 61%|██████    | 69/114 [00:01<00:00, 57.90it/s]"
     ]
    },
    {
     "name": "stdout",
     "output_type": "stream",
     "text": [
      "Overdispersion estimate out of bounds. Reverting to Binomial LRT.\n",
      "Overdispersion estimate out of bounds. Reverting to Binomial LRT.\n"
     ]
    },
    {
     "name": "stderr",
     "output_type": "stream",
     "text": [
      " 73%|███████▎  | 83/114 [00:01<00:00, 61.57it/s]"
     ]
    },
    {
     "name": "stdout",
     "output_type": "stream",
     "text": [
      "Overdispersion estimate out of bounds. Reverting to Binomial LRT.\n",
      "Overdispersion estimate out of bounds. Reverting to Binomial LRT.\n"
     ]
    },
    {
     "name": "stderr",
     "output_type": "stream",
     "text": [
      " 90%|█████████ | 103/114 [00:01<00:00, 53.23it/s]"
     ]
    },
    {
     "name": "stdout",
     "output_type": "stream",
     "text": [
      "Overdispersion estimate out of bounds. Reverting to Binomial LRT.\n",
      "Overdispersion estimate out of bounds. Reverting to Binomial LRT.\n",
      "Overdispersion estimate out of bounds. Reverting to Binomial LRT.\n"
     ]
    },
    {
     "name": "stderr",
     "output_type": "stream",
     "text": [
      "100%|██████████| 114/114 [00:01<00:00, 57.38it/s]"
     ]
    },
    {
     "name": "stdout",
     "output_type": "stream",
     "text": [
      "[dali] Testing 114 regions on 1 core(s) ... \n"
     ]
    },
    {
     "name": "stderr",
     "output_type": "stream",
     "text": [
      "\n",
      "  5%|▌         | 6/114 [00:00<00:02, 52.45it/s]"
     ]
    },
    {
     "name": "stdout",
     "output_type": "stream",
     "text": [
      "Overdispersion estimate out of bounds. Reverting to Binomial LRT.\n"
     ]
    },
    {
     "name": "stderr",
     "output_type": "stream",
     "text": [
      " 65%|██████▍   | 74/114 [00:01<00:00, 47.01it/s]"
     ]
    },
    {
     "name": "stdout",
     "output_type": "stream",
     "text": [
      "Overdispersion estimate out of bounds. Reverting to Binomial LRT.\n",
      "Overdispersion estimate out of bounds. Reverting to Binomial LRT.\n"
     ]
    },
    {
     "name": "stderr",
     "output_type": "stream",
     "text": [
      "100%|██████████| 114/114 [00:02<00:00, 50.06it/s]"
     ]
    },
    {
     "name": "stdout",
     "output_type": "stream",
     "text": [
      "[dali] Testing 57 regions on 1 core(s) ... \n"
     ]
    },
    {
     "name": "stderr",
     "output_type": "stream",
     "text": [
      "\n",
      " 14%|█▍        | 8/57 [00:00<00:00, 77.13it/s]"
     ]
    },
    {
     "name": "stdout",
     "output_type": "stream",
     "text": [
      "Overdispersion estimate out of bounds. Reverting to Binomial LRT.\n",
      "Overdispersion estimate out of bounds. Reverting to Binomial LRT.\n",
      "Overdispersion estimate out of bounds. Reverting to Binomial LRT.\n",
      "Overdispersion estimate out of bounds. Reverting to Binomial LRT.\n",
      "Overdispersion estimate out of bounds. Reverting to Binomial LRT.\n",
      "Overdispersion estimate out of bounds. Reverting to Binomial LRT.\n",
      "Overdispersion estimate out of bounds. Reverting to Binomial LRT.\n",
      "Overdispersion estimate out of bounds. Reverting to Binomial LRT.\n",
      "Overdispersion estimate out of bounds. Reverting to Binomial LRT.\n",
      "Overdispersion estimate out of bounds. Reverting to Binomial LRT.\n"
     ]
    },
    {
     "name": "stderr",
     "output_type": "stream",
     "text": [
      " 67%|██████▋   | 38/57 [00:00<00:00, 79.46it/s]"
     ]
    },
    {
     "name": "stdout",
     "output_type": "stream",
     "text": [
      "Overdispersion estimate out of bounds. Reverting to Binomial LRT.\n",
      "Overdispersion estimate out of bounds. Reverting to Binomial LRT.\n",
      "Overdispersion estimate out of bounds. Reverting to Binomial LRT.\n",
      "Overdispersion estimate out of bounds. Reverting to Binomial LRT.\n"
     ]
    },
    {
     "name": "stderr",
     "output_type": "stream",
     "text": [
      "100%|██████████| 57/57 [00:00<00:00, 72.71it/s]"
     ]
    },
    {
     "name": "stdout",
     "output_type": "stream",
     "text": [
      "Overdispersion estimate out of bounds. Reverting to Binomial LRT.\n",
      "[dali] Testing 57 regions on 1 core(s) ... \n"
     ]
    },
    {
     "name": "stderr",
     "output_type": "stream",
     "text": [
      "\n",
      "  0%|          | 0/57 [00:00<?, ?it/s]"
     ]
    },
    {
     "name": "stdout",
     "output_type": "stream",
     "text": [
      "Overdispersion estimate out of bounds. Reverting to Binomial LRT.\n",
      "Overdispersion estimate out of bounds. Reverting to Binomial LRT.\n",
      "Overdispersion estimate out of bounds. Reverting to Binomial LRT.\n",
      "Overdispersion estimate out of bounds. Reverting to Binomial LRT.\n",
      "Overdispersion estimate out of bounds. Reverting to Binomial LRT.\n",
      "Overdispersion estimate out of bounds. Reverting to Binomial LRT.\n",
      "Overdispersion estimate out of bounds. Reverting to Binomial LRT.\n"
     ]
    },
    {
     "name": "stderr",
     "output_type": "stream",
     "text": [
      " 21%|██        | 12/57 [00:00<00:00, 119.99it/s]"
     ]
    },
    {
     "name": "stdout",
     "output_type": "stream",
     "text": [
      "Overdispersion estimate out of bounds. Reverting to Binomial LRT.\n",
      "Overdispersion estimate out of bounds. Reverting to Binomial LRT.\n",
      "Overdispersion estimate out of bounds. Reverting to Binomial LRT.\n",
      "Overdispersion estimate out of bounds. Reverting to Binomial LRT.\n",
      "Overdispersion estimate out of bounds. Reverting to Binomial LRT.\n",
      "Overdispersion estimate out of bounds. Reverting to Binomial LRT.\n"
     ]
    },
    {
     "name": "stderr",
     "output_type": "stream",
     "text": [
      " 72%|███████▏  | 41/57 [00:00<00:00, 97.24it/s] "
     ]
    },
    {
     "name": "stdout",
     "output_type": "stream",
     "text": [
      "Overdispersion estimate out of bounds. Reverting to Binomial LRT.\n",
      "Overdispersion estimate out of bounds. Reverting to Binomial LRT.\n",
      "Overdispersion estimate out of bounds. Reverting to Binomial LRT.\n",
      "Overdispersion estimate out of bounds. Reverting to Binomial LRT.\n",
      "Overdispersion estimate out of bounds. Reverting to Binomial LRT.\n",
      "Overdispersion estimate out of bounds. Reverting to Binomial LRT.\n"
     ]
    },
    {
     "name": "stderr",
     "output_type": "stream",
     "text": [
      " 86%|████████▌ | 49/57 [00:00<00:00, 86.70it/s]"
     ]
    },
    {
     "name": "stdout",
     "output_type": "stream",
     "text": [
      "Overdispersion estimate out of bounds. Reverting to Binomial LRT.\n"
     ]
    },
    {
     "name": "stderr",
     "output_type": "stream",
     "text": [
      "100%|██████████| 57/57 [00:00<00:00, 77.69it/s]"
     ]
    },
    {
     "name": "stdout",
     "output_type": "stream",
     "text": [
      "Overdispersion estimate out of bounds. Reverting to Binomial LRT.\n",
      "Overdispersion estimate out of bounds. Reverting to Binomial LRT.\n"
     ]
    },
    {
     "name": "stderr",
     "output_type": "stream",
     "text": [
      "\n"
     ]
    },
    {
     "name": "stdout",
     "output_type": "stream",
     "text": [
      "[dali] Testing 57 regions on 1 core(s) ... \n"
     ]
    },
    {
     "name": "stderr",
     "output_type": "stream",
     "text": [
      "  9%|▉         | 5/57 [00:00<00:01, 43.87it/s]"
     ]
    },
    {
     "name": "stdout",
     "output_type": "stream",
     "text": [
      "Overdispersion estimate out of bounds. Reverting to Binomial LRT.\n",
      "Overdispersion estimate out of bounds. Reverting to Binomial LRT.\n",
      "Overdispersion estimate out of bounds. Reverting to Binomial LRT.\n",
      "Overdispersion estimate out of bounds. Reverting to Binomial LRT.\n",
      "Overdispersion estimate out of bounds. Reverting to Binomial LRT.\n"
     ]
    },
    {
     "name": "stderr",
     "output_type": "stream",
     "text": [
      " 28%|██▊       | 16/57 [00:00<00:00, 53.31it/s]"
     ]
    },
    {
     "name": "stdout",
     "output_type": "stream",
     "text": [
      "Overdispersion estimate out of bounds. Reverting to Binomial LRT.\n"
     ]
    },
    {
     "name": "stderr",
     "output_type": "stream",
     "text": [
      " 42%|████▏     | 24/57 [00:00<00:00, 58.85it/s]"
     ]
    },
    {
     "name": "stdout",
     "output_type": "stream",
     "text": [
      "Overdispersion estimate out of bounds. Reverting to Binomial LRT.\n"
     ]
    },
    {
     "name": "stderr",
     "output_type": "stream",
     "text": [
      " 54%|█████▍    | 31/57 [00:00<00:00, 60.37it/s]"
     ]
    },
    {
     "name": "stdout",
     "output_type": "stream",
     "text": [
      "Overdispersion estimate out of bounds. Reverting to Binomial LRT.\n",
      "Overdispersion estimate out of bounds. Reverting to Binomial LRT.\n",
      "Overdispersion estimate out of bounds. Reverting to Binomial LRT.\n"
     ]
    },
    {
     "name": "stderr",
     "output_type": "stream",
     "text": [
      "100%|██████████| 57/57 [00:00<00:00, 63.59it/s]"
     ]
    },
    {
     "name": "stdout",
     "output_type": "stream",
     "text": [
      "Overdispersion estimate out of bounds. Reverting to Binomial LRT.\n",
      "Overdispersion estimate out of bounds. Reverting to Binomial LRT.\n",
      "[dali] Testing 57 regions on 1 core(s) ... \n"
     ]
    },
    {
     "name": "stderr",
     "output_type": "stream",
     "text": [
      "\n",
      " 11%|█         | 6/57 [00:00<00:00, 53.11it/s]"
     ]
    },
    {
     "name": "stdout",
     "output_type": "stream",
     "text": [
      "Overdispersion estimate out of bounds. Reverting to Binomial LRT.\n"
     ]
    },
    {
     "name": "stderr",
     "output_type": "stream",
     "text": [
      " 37%|███▋      | 21/57 [00:00<00:00, 62.45it/s]"
     ]
    },
    {
     "name": "stdout",
     "output_type": "stream",
     "text": [
      "Overdispersion estimate out of bounds. Reverting to Binomial LRT.\n"
     ]
    },
    {
     "name": "stderr",
     "output_type": "stream",
     "text": [
      " 74%|███████▎  | 42/57 [00:00<00:00, 61.38it/s]"
     ]
    },
    {
     "name": "stdout",
     "output_type": "stream",
     "text": [
      "Overdispersion estimate out of bounds. Reverting to Binomial LRT.\n"
     ]
    },
    {
     "name": "stderr",
     "output_type": "stream",
     "text": [
      "100%|██████████| 57/57 [00:01<00:00, 56.22it/s]"
     ]
    },
    {
     "name": "stdout",
     "output_type": "stream",
     "text": [
      "[dali] Testing 57 regions on 1 core(s) ... \n"
     ]
    },
    {
     "name": "stderr",
     "output_type": "stream",
     "text": [
      "\n",
      " 40%|████      | 23/57 [00:00<00:00, 48.12it/s]"
     ]
    },
    {
     "name": "stdout",
     "output_type": "stream",
     "text": [
      "Overdispersion estimate out of bounds. Reverting to Binomial LRT.\n"
     ]
    },
    {
     "name": "stderr",
     "output_type": "stream",
     "text": [
      "100%|██████████| 57/57 [00:01<00:00, 40.03it/s]"
     ]
    },
    {
     "name": "stdout",
     "output_type": "stream",
     "text": [
      "[dali] Testing 57 regions on 1 core(s) ... \n"
     ]
    },
    {
     "name": "stderr",
     "output_type": "stream",
     "text": [
      "\n",
      "  9%|▉         | 5/57 [00:00<00:01, 49.87it/s]"
     ]
    },
    {
     "name": "stdout",
     "output_type": "stream",
     "text": [
      "Overdispersion estimate out of bounds. Reverting to Binomial LRT.\n",
      "Overdispersion estimate out of bounds. Reverting to Binomial LRT.\n"
     ]
    },
    {
     "name": "stderr",
     "output_type": "stream",
     "text": [
      " 75%|███████▌  | 43/57 [00:00<00:00, 62.73it/s]"
     ]
    },
    {
     "name": "stdout",
     "output_type": "stream",
     "text": [
      "Overdispersion estimate out of bounds. Reverting to Binomial LRT.\n"
     ]
    },
    {
     "name": "stderr",
     "output_type": "stream",
     "text": [
      "100%|██████████| 57/57 [00:00<00:00, 57.72it/s]"
     ]
    },
    {
     "name": "stdout",
     "output_type": "stream",
     "text": [
      "[dali] Testing 57 regions on 1 core(s) ... \n"
     ]
    },
    {
     "name": "stderr",
     "output_type": "stream",
     "text": [
      "\n",
      "100%|██████████| 57/57 [00:01<00:00, 47.35it/s]\n"
     ]
    },
    {
     "name": "stdout",
     "output_type": "stream",
     "text": [
      "[dali] Testing 101 regions on 1 core(s) ... \n"
     ]
    },
    {
     "name": "stderr",
     "output_type": "stream",
     "text": [
      " 54%|█████▍    | 55/101 [00:00<00:00, 75.08it/s]"
     ]
    },
    {
     "name": "stdout",
     "output_type": "stream",
     "text": [
      "Overdispersion estimate out of bounds. Reverting to Binomial LRT.\n",
      "Overdispersion estimate out of bounds. Reverting to Binomial LRT.\n",
      "Overdispersion estimate out of bounds. Reverting to Binomial LRT.\n"
     ]
    },
    {
     "name": "stderr",
     "output_type": "stream",
     "text": [
      " 82%|████████▏ | 83/101 [00:01<00:00, 82.54it/s]"
     ]
    },
    {
     "name": "stdout",
     "output_type": "stream",
     "text": [
      "Overdispersion estimate out of bounds. Reverting to Binomial LRT.\n",
      "Overdispersion estimate out of bounds. Reverting to Binomial LRT.\n"
     ]
    },
    {
     "name": "stderr",
     "output_type": "stream",
     "text": [
      "100%|██████████| 101/101 [00:01<00:00, 75.54it/s]"
     ]
    },
    {
     "name": "stdout",
     "output_type": "stream",
     "text": [
      "Overdispersion estimate out of bounds. Reverting to Binomial LRT.\n",
      "[dali] Testing 101 regions on 1 core(s) ... \n"
     ]
    },
    {
     "name": "stderr",
     "output_type": "stream",
     "text": [
      "\n",
      " 11%|█         | 11/101 [00:00<00:00, 99.93it/s]"
     ]
    },
    {
     "name": "stdout",
     "output_type": "stream",
     "text": [
      "Overdispersion estimate out of bounds. Reverting to Binomial LRT.\n",
      "Overdispersion estimate out of bounds. Reverting to Binomial LRT.\n",
      "Overdispersion estimate out of bounds. Reverting to Binomial LRT.\n"
     ]
    },
    {
     "name": "stderr",
     "output_type": "stream",
     "text": [
      " 46%|████▌     | 46/101 [00:00<00:00, 74.14it/s]"
     ]
    },
    {
     "name": "stdout",
     "output_type": "stream",
     "text": [
      "Overdispersion estimate out of bounds. Reverting to Binomial LRT.\n",
      "Overdispersion estimate out of bounds. Reverting to Binomial LRT.\n",
      "Overdispersion estimate out of bounds. Reverting to Binomial LRT.\n",
      "Overdispersion estimate out of bounds. Reverting to Binomial LRT.\n",
      "Overdispersion estimate out of bounds. Reverting to Binomial LRT.\n",
      "Overdispersion estimate out of bounds. Reverting to Binomial LRT.\n"
     ]
    },
    {
     "name": "stderr",
     "output_type": "stream",
     "text": [
      " 77%|███████▋  | 78/101 [00:00<00:00, 87.60it/s]"
     ]
    },
    {
     "name": "stdout",
     "output_type": "stream",
     "text": [
      "Overdispersion estimate out of bounds. Reverting to Binomial LRT.\n",
      "Overdispersion estimate out of bounds. Reverting to Binomial LRT.\n",
      "Overdispersion estimate out of bounds. Reverting to Binomial LRT.\n",
      "Overdispersion estimate out of bounds. Reverting to Binomial LRT.\n",
      "Overdispersion estimate out of bounds. Reverting to Binomial LRT.\n",
      "Overdispersion estimate out of bounds. Reverting to Binomial LRT.\n",
      "Overdispersion estimate out of bounds. Reverting to Binomial LRT.\n",
      "Overdispersion estimate out of bounds. Reverting to Binomial LRT.\n",
      "Overdispersion estimate out of bounds. Reverting to Binomial LRT.\n",
      "Overdispersion estimate out of bounds. Reverting to Binomial LRT.\n",
      "Overdispersion estimate out of bounds. Reverting to Binomial LRT.\n"
     ]
    },
    {
     "name": "stderr",
     "output_type": "stream",
     "text": [
      "100%|██████████| 101/101 [00:01<00:00, 79.83it/s]"
     ]
    },
    {
     "name": "stdout",
     "output_type": "stream",
     "text": [
      "Overdispersion estimate out of bounds. Reverting to Binomial LRT.\n",
      "Overdispersion estimate out of bounds. Reverting to Binomial LRT.\n",
      "Overdispersion estimate out of bounds. Reverting to Binomial LRT.\n",
      "Overdispersion estimate out of bounds. Reverting to Binomial LRT.\n",
      "Overdispersion estimate out of bounds. Reverting to Binomial LRT.\n",
      "[dali] Testing 101 regions on 1 core(s) ... \n"
     ]
    },
    {
     "name": "stderr",
     "output_type": "stream",
     "text": [
      "\n",
      " 16%|█▌        | 16/101 [00:00<00:01, 45.75it/s]"
     ]
    },
    {
     "name": "stdout",
     "output_type": "stream",
     "text": [
      "Overdispersion estimate out of bounds. Reverting to Binomial LRT.\n",
      "Overdispersion estimate out of bounds. Reverting to Binomial LRT.\n",
      "Overdispersion estimate out of bounds. Reverting to Binomial LRT.\n",
      "Overdispersion estimate out of bounds. Reverting to Binomial LRT.\n",
      "Overdispersion estimate out of bounds. Reverting to Binomial LRT.\n",
      "Overdispersion estimate out of bounds. Reverting to Binomial LRT.\n",
      "Overdispersion estimate out of bounds. Reverting to Binomial LRT.\n",
      "Overdispersion estimate out of bounds. Reverting to Binomial LRT.\n"
     ]
    },
    {
     "name": "stderr",
     "output_type": "stream",
     "text": [
      " 47%|████▋     | 47/101 [00:00<00:00, 70.40it/s]"
     ]
    },
    {
     "name": "stdout",
     "output_type": "stream",
     "text": [
      "Overdispersion estimate out of bounds. Reverting to Binomial LRT.\n",
      "Overdispersion estimate out of bounds. Reverting to Binomial LRT.\n",
      "Overdispersion estimate out of bounds. Reverting to Binomial LRT.\n",
      "Overdispersion estimate out of bounds. Reverting to Binomial LRT.\n",
      "Overdispersion estimate out of bounds. Reverting to Binomial LRT.\n",
      "Overdispersion estimate out of bounds. Reverting to Binomial LRT.\n",
      "Overdispersion estimate out of bounds. Reverting to Binomial LRT.\n",
      "Overdispersion estimate out of bounds. Reverting to Binomial LRT.\n"
     ]
    },
    {
     "name": "stderr",
     "output_type": "stream",
     "text": [
      " 69%|██████▉   | 70/101 [00:00<00:00, 85.76it/s]"
     ]
    },
    {
     "name": "stdout",
     "output_type": "stream",
     "text": [
      "Overdispersion estimate out of bounds. Reverting to Binomial LRT.\n",
      "Overdispersion estimate out of bounds. Reverting to Binomial LRT.\n",
      "Overdispersion estimate out of bounds. Reverting to Binomial LRT.\n",
      "Overdispersion estimate out of bounds. Reverting to Binomial LRT.\n",
      "Overdispersion estimate out of bounds. Reverting to Binomial LRT.\n",
      "Overdispersion estimate out of bounds. Reverting to Binomial LRT.\n",
      "Overdispersion estimate out of bounds. Reverting to Binomial LRT.\n",
      "Overdispersion estimate out of bounds. Reverting to Binomial LRT.\n"
     ]
    },
    {
     "name": "stderr",
     "output_type": "stream",
     "text": [
      " 89%|████████▉ | 90/101 [00:00<00:00, 83.10it/s]"
     ]
    },
    {
     "name": "stdout",
     "output_type": "stream",
     "text": [
      "Overdispersion estimate out of bounds. Reverting to Binomial LRT.\n",
      "Overdispersion estimate out of bounds. Reverting to Binomial LRT.\n",
      "Overdispersion estimate out of bounds. Reverting to Binomial LRT.\n",
      "Overdispersion estimate out of bounds. Reverting to Binomial LRT.\n",
      "Overdispersion estimate out of bounds. Reverting to Binomial LRT.\n",
      "Overdispersion estimate out of bounds. Reverting to Binomial LRT.\n"
     ]
    },
    {
     "name": "stderr",
     "output_type": "stream",
     "text": [
      "100%|██████████| 101/101 [00:01<00:00, 90.70it/s]"
     ]
    },
    {
     "name": "stdout",
     "output_type": "stream",
     "text": [
      "Overdispersion estimate out of bounds. Reverting to Binomial LRT.\n",
      "Overdispersion estimate out of bounds. Reverting to Binomial LRT.\n",
      "[dali] Testing 101 regions on 1 core(s) ... \n"
     ]
    },
    {
     "name": "stderr",
     "output_type": "stream",
     "text": [
      "\n",
      " 38%|███▊      | 38/101 [00:00<00:00, 69.72it/s]"
     ]
    },
    {
     "name": "stdout",
     "output_type": "stream",
     "text": [
      "Overdispersion estimate out of bounds. Reverting to Binomial LRT.\n",
      "Overdispersion estimate out of bounds. Reverting to Binomial LRT.\n"
     ]
    },
    {
     "name": "stderr",
     "output_type": "stream",
     "text": [
      "100%|██████████| 101/101 [00:01<00:00, 62.94it/s]"
     ]
    },
    {
     "name": "stdout",
     "output_type": "stream",
     "text": [
      "[dali] Testing 101 regions on 1 core(s) ... \n"
     ]
    },
    {
     "name": "stderr",
     "output_type": "stream",
     "text": [
      "\n",
      " 23%|██▎       | 23/101 [00:00<00:01, 49.83it/s]"
     ]
    },
    {
     "name": "stdout",
     "output_type": "stream",
     "text": [
      "Overdispersion estimate out of bounds. Reverting to Binomial LRT.\n"
     ]
    },
    {
     "name": "stderr",
     "output_type": "stream",
     "text": [
      "100%|██████████| 101/101 [00:02<00:00, 48.51it/s]"
     ]
    },
    {
     "name": "stdout",
     "output_type": "stream",
     "text": [
      "[dali] Testing 101 regions on 1 core(s) ... \n"
     ]
    },
    {
     "name": "stderr",
     "output_type": "stream",
     "text": [
      "\n",
      " 31%|███       | 31/101 [00:00<00:00, 70.54it/s]"
     ]
    },
    {
     "name": "stdout",
     "output_type": "stream",
     "text": [
      "Overdispersion estimate out of bounds. Reverting to Binomial LRT.\n",
      "Overdispersion estimate out of bounds. Reverting to Binomial LRT.\n",
      "Overdispersion estimate out of bounds. Reverting to Binomial LRT.\n"
     ]
    },
    {
     "name": "stderr",
     "output_type": "stream",
     "text": [
      " 49%|████▊     | 49/101 [00:00<00:00, 77.55it/s]"
     ]
    },
    {
     "name": "stdout",
     "output_type": "stream",
     "text": [
      "Overdispersion estimate out of bounds. Reverting to Binomial LRT.\n"
     ]
    },
    {
     "name": "stderr",
     "output_type": "stream",
     "text": [
      " 72%|███████▏  | 73/101 [00:01<00:00, 68.75it/s]"
     ]
    },
    {
     "name": "stdout",
     "output_type": "stream",
     "text": [
      "Overdispersion estimate out of bounds. Reverting to Binomial LRT.\n"
     ]
    },
    {
     "name": "stderr",
     "output_type": "stream",
     "text": [
      "100%|██████████| 101/101 [00:01<00:00, 68.49it/s]"
     ]
    },
    {
     "name": "stdout",
     "output_type": "stream",
     "text": [
      "[dali] Testing 101 regions on 1 core(s) ... \n"
     ]
    },
    {
     "name": "stderr",
     "output_type": "stream",
     "text": [
      "\n",
      "100%|██████████| 101/101 [00:02<00:00, 48.70it/s]\n"
     ]
    }
   ],
   "source": [
    "lineage_imb_pvals = pd.DataFrame()\n",
    "\n",
    "for exp_id, adata in adatas_allelic.items():\n",
    "    # only consider significantly variable peaks\n",
    "    adata = adata[:, adata.var.query('%s_bh < 0.1' % DALIHET_PVAL).index]\n",
    "    sub_df = pd.DataFrame(index = adata.var_names)\n",
    "    for lineage in lineages:\n",
    "        lineage_ids = adata.obs['annotation'] == lineage\n",
    "        A = adata[lineage_ids, :].X.A\n",
    "        D = adata[lineage_ids, :].layers['allelic_total'].A\n",
    "        sub_df[lineage] = run_dali(\n",
    "            A=A,\n",
    "            D=D,\n",
    "            test='meanBB',\n",
    "            base_rate=.5)['pvalues']\n",
    "        \n",
    "    sub_df = sub_df.reset_index().rename(columns={'index': 'peak'})\n",
    "    sub_df['exp_id'] = exp_id\n",
    "    \n",
    "    lineage_imb_pvals = pd.concat([lineage_imb_pvals, sub_df])\n",
    "    \n",
    "lineage_imb_pvals = lineage_imb_pvals.reset_index(drop=True)\n",
    "lineage_imb_pvals.index = lineage_imb_pvals['exp_id'] + '_' + lineage_imb_pvals['peak']"
   ]
  },
  {
   "cell_type": "code",
   "execution_count": 21,
   "metadata": {},
   "outputs": [],
   "source": [
    "lineage_imb_pvals_adjusted = lineage_imb_pvals.copy()\n",
    "lineage_imb_pvals_adjusted[lineages] = apply_fdr_bh(lineage_imb_pvals_adjusted[lineages].to_numpy().flatten()).reshape((lineage_imb_pvals.shape[0], len(lineages)))"
   ]
  },
  {
   "cell_type": "code",
   "execution_count": 22,
   "metadata": {},
   "outputs": [],
   "source": [
    "df_all = pd.merge(df_all, lineage_imb_pvals.rename(lineage_var_formatter('imb_pval'), axis=1), left_on=['peak', 'exp_id'], right_on=['peak', 'exp_id'], how='outer')\n",
    "df_all = pd.merge(df_all, lineage_imb_pvals_adjusted.rename(lineage_var_formatter('imb_pval_bh'), axis=1), left_on=['peak', 'exp_id'], right_on=['peak', 'exp_id'], how='outer')"
   ]
  },
  {
   "cell_type": "code",
   "execution_count": 23,
   "metadata": {},
   "outputs": [],
   "source": [
    "lineage_imb_pvals_thresholded = lineage_imb_pvals_adjusted.copy()\n",
    "lineage_imb_pvals_thresholded[lineages] = lineage_imb_pvals_thresholded[lineages] < .1\n",
    "\n",
    "n_imb_by_peak = pd.DataFrame({\n",
    "    'n_imb_lineages': lineage_imb_pvals_thresholded[lineages].sum(1),\n",
    "    'exp_id': lineage_imb_pvals_adjusted['exp_id']\n",
    "})\n",
    "n_imb_by_lineage = lineage_imb_pvals_thresholded.groupby('exp_id').sum(0).drop('peak', 1).reset_index()\n",
    "n_imb_by_lineage = n_imb_by_lineage.melt(id_vars=['exp_id'], var_name='Lineage', value_name='Peak count')"
   ]
  },
  {
   "cell_type": "code",
   "execution_count": 24,
   "metadata": {},
   "outputs": [
    {
     "data": {
      "image/png": "[encoded data removed]",
      "text/plain": [
       "<Figure size 172.8x115.2 with 1 Axes>"
      ]
     },
     "metadata": {
      "image/png": {
       "height": 126,
       "width": 179
      }
     },
     "output_type": "display_data"
    }
   ],
   "source": [
    "fig, ax = plt.subplots(figsize=(2.4, 1.6))\n",
    "sns.countplot(x='n_imb_lineages', data=n_imb_by_peak, ax=ax)\n",
    "ax.set(xlabel='Number of imbalanced lineages', ylabel='Peak count')\n",
    "sns.despine()\n",
    "save_panel(fig)"
   ]
  },
  {
   "cell_type": "code",
   "execution_count": 25,
   "metadata": {},
   "outputs": [
    {
     "data": {
      "image/png": "[encoded data removed]",
      "text/plain": [
       "<Figure size 172.8x115.2 with 1 Axes>"
      ]
     },
     "metadata": {
      "image/png": {
       "height": 180,
       "width": 185
      }
     },
     "output_type": "display_data"
    }
   ],
   "source": [
    "fig, ax = plt.subplots(figsize=(2.4, 1.6))\n",
    "sns.barplot(x='Lineage', y='Peak count', data=n_imb_by_lineage.groupby('Lineage')['Peak count'].sum().reset_index(), palette=lineage_colors, ax=ax)\n",
    "ax.set_xticklabels(ax.get_xticklabels(), rotation=50)\n",
    "ax.set(title='Imbalances by lineage')\n",
    "sns.despine()\n",
    "save_panel(fig)"
   ]
  },
  {
   "cell_type": "code",
   "execution_count": 26,
   "metadata": {},
   "outputs": [
    {
     "data": {
      "image/png": "[encoded data removed]",
      "text/plain": [
       "<Figure size 172.8x115.2 with 1 Axes>"
      ]
     },
     "metadata": {
      "image/png": {
       "height": 126,
       "width": 179
      }
     },
     "output_type": "display_data"
    }
   ],
   "source": [
    "fig, ax = plt.subplots(figsize=(2.4, 1.6))\n",
    "sns.countplot(x='n_diff_lineages', data=n_diff_by_peak, ax=ax)\n",
    "ax.set(xlabel='Number of diff. imbalanced lineages', ylabel='Peak count')\n",
    "sns.despine()\n",
    "save_panel(fig)"
   ]
  },
  {
   "cell_type": "code",
   "execution_count": 27,
   "metadata": {},
   "outputs": [
    {
     "data": {
      "image/png": "[encoded data removed]",
      "text/plain": [
       "<Figure size 172.8x115.2 with 1 Axes>"
      ]
     },
     "metadata": {
      "image/png": {
       "height": 180,
       "width": 185
      }
     },
     "output_type": "display_data"
    }
   ],
   "source": [
    "fig, ax = plt.subplots(figsize=(2.4, 1.6))\n",
    "sns.barplot(x='Lineage', y='Peak count', data=n_diff_by_lineage.groupby('Lineage')['Peak count'].sum().reset_index(), palette=lineage_colors, ax=ax)\n",
    "ax.set_xticklabels(ax.get_xticklabels(), rotation=50)\n",
    "ax.set(title='Diff. imbalances by lineage')\n",
    "sns.despine()\n",
    "save_panel(fig)"
   ]
  },
  {
   "cell_type": "code",
   "execution_count": 28,
   "metadata": {},
   "outputs": [
    {
     "data": {
      "image/png": "[encoded data removed]",
      "text/plain": [
       "<Figure size 172.8x115.2 with 1 Axes>"
      ]
     },
     "metadata": {
      "image/png": {
       "height": 175,
       "width": 183
      }
     },
     "output_type": "display_data"
    }
   ],
   "source": [
    "fig, ax = plt.subplots(figsize=(2.4, 1.6))\n",
    "df_counts = (df_all[lineage_var_formatter('counts').values()]\n",
    "    .rename({v: k for (k, v) in lineage_var_formatter('counts').items()}, axis=1).sum(0))\n",
    "sns.barplot(x='Lineage', y='Read count', data=df_counts.reset_index().rename({'index': 'Lineage', 0: 'Read count'}, axis=1), palette=lineage_colors)\n",
    "ax.set(xlabel='Lineage', ylabel='Read count')\n",
    "ax.set_xticklabels(ax.get_xticklabels(), rotation=50)\n",
    "sns.despine()\n",
    "save_panel(fig)"
   ]
  },
  {
   "cell_type": "code",
   "execution_count": 34,
   "metadata": {},
   "outputs": [
    {
     "data": {
      "text/plain": [
       "1    168\n",
       "2    129\n",
       "0     71\n",
       "3     44\n",
       "4      3\n",
       "Name: n_diff_lineages, dtype: int64"
      ]
     },
     "execution_count": 34,
     "metadata": {},
     "output_type": "execute_result"
    }
   ],
   "source": [
    "n_diff_by_peak['n_diff_lineages'].value_counts()"
   ]
  },
  {
   "cell_type": "code",
   "execution_count": 35,
   "metadata": {},
   "outputs": [
    {
     "data": {
      "text/plain": [
       "415"
      ]
     },
     "execution_count": 35,
     "metadata": {},
     "output_type": "execute_result"
    }
   ],
   "source": [
    "n_diff_by_peak['n_diff_lineages'].size"
   ]
  },
  {
   "cell_type": "code",
   "execution_count": 39,
   "metadata": {},
   "outputs": [
    {
     "data": {
      "text/plain": [
       "0.42409638554216866"
      ]
     },
     "execution_count": 39,
     "metadata": {},
     "output_type": "execute_result"
    }
   ],
   "source": [
    "(129 + 44 + 3) / 415"
   ]
  },
  {
   "cell_type": "code",
   "execution_count": 38,
   "metadata": {},
   "outputs": [
    {
     "data": {
      "text/plain": [
       "47"
      ]
     },
     "execution_count": 38,
     "metadata": {},
     "output_type": "execute_result"
    }
   ],
   "source": [
    "44 + 3"
   ]
  },
  {
   "cell_type": "code",
   "execution_count": null,
   "metadata": {},
   "outputs": [],
   "source": []
  },
  {
   "cell_type": "code",
   "execution_count": 42,
   "metadata": {},
   "outputs": [
    {
     "data": {
      "text/html": [
       "<div>\n",
       "<style scoped>\n",
       "    .dataframe tbody tr th:only-of-type {\n",
       "        vertical-align: middle;\n",
       "    }\n",
       "\n",
       "    .dataframe tbody tr th {\n",
       "        vertical-align: top;\n",
       "    }\n",
       "\n",
       "    .dataframe thead th {\n",
       "        text-align: right;\n",
       "    }\n",
       "</style>\n",
       "<table border=\"1\" class=\"dataframe\">\n",
       "  <thead>\n",
       "    <tr style=\"text-align: right;\">\n",
       "      <th></th>\n",
       "      <th>peak</th>\n",
       "      <th>Epidermis</th>\n",
       "      <th>Fat body</th>\n",
       "      <th>Hemocytes</th>\n",
       "      <th>Midgut</th>\n",
       "      <th>Muscle</th>\n",
       "      <th>Nervous system</th>\n",
       "      <th>Primordium</th>\n",
       "      <th>exp_id</th>\n",
       "    </tr>\n",
       "  </thead>\n",
       "  <tbody>\n",
       "    <tr>\n",
       "      <th>33</th>\n",
       "      <td>chr2R_13675707_13676707</td>\n",
       "      <td>0.648712</td>\n",
       "      <td>0.344952</td>\n",
       "      <td>0.340420</td>\n",
       "      <td>0.391979</td>\n",
       "      <td>0.178067</td>\n",
       "      <td>2.814893e-07</td>\n",
       "      <td>0.008116</td>\n",
       "      <td>SS157</td>\n",
       "    </tr>\n",
       "    <tr>\n",
       "      <th>16</th>\n",
       "      <td>chr2R_13675707_13676707</td>\n",
       "      <td>0.148699</td>\n",
       "      <td>0.867652</td>\n",
       "      <td>0.815044</td>\n",
       "      <td>0.727584</td>\n",
       "      <td>0.045437</td>\n",
       "      <td>1.779216e-02</td>\n",
       "      <td>0.685151</td>\n",
       "      <td>SS158</td>\n",
       "    </tr>\n",
       "  </tbody>\n",
       "</table>\n",
       "</div>"
      ],
      "text/plain": [
       "                       peak  Epidermis  Fat body  Hemocytes    Midgut  \\\n",
       "33  chr2R_13675707_13676707   0.648712  0.344952   0.340420  0.391979   \n",
       "16  chr2R_13675707_13676707   0.148699  0.867652   0.815044  0.727584   \n",
       "\n",
       "      Muscle  Nervous system  Primordium exp_id  \n",
       "33  0.178067    2.814893e-07    0.008116  SS157  \n",
       "16  0.045437    1.779216e-02    0.685151  SS158  "
      ]
     },
     "execution_count": 42,
     "metadata": {},
     "output_type": "execute_result"
    }
   ],
   "source": [
    "peak = 'chr2R_13675707_13676707'\n",
    "lineage_diff_pvals_adjusted.query('peak == @peak')"
   ]
  },
  {
   "cell_type": "code",
   "execution_count": null,
   "metadata": {},
   "outputs": [],
   "source": []
  }
 ],
 "metadata": {
  "kernelspec": {
   "display_name": "f1_analysis",
   "language": "python",
   "name": "f1_analysis"
  },
  "language_info": {
   "codemirror_mode": {
    "name": "ipython",
    "version": 3
   },
   "file_extension": ".py",
   "mimetype": "text/x-python",
   "name": "python",
   "nbconvert_exporter": "python",
   "pygments_lexer": "ipython3",
   "version": "3.6.10"
  }
 },
 "nbformat": 4,
 "nbformat_minor": 4
}
