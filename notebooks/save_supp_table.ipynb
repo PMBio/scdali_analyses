{
 "cells": [
  {
   "cell_type": "code",
   "execution_count": 1,
   "metadata": {},
   "outputs": [],
   "source": [
    "%load_ext autoreload\n",
    "%autoreload 2"
   ]
  },
  {
   "cell_type": "markdown",
   "metadata": {},
   "source": [
    "## Save table with results"
   ]
  },
  {
   "cell_type": "code",
   "execution_count": 2,
   "metadata": {},
   "outputs": [],
   "source": [
    "experiment_ids = 'f1'\n",
    "timepoints = 'all'\n",
    "regions = 'cusanovich_dm6_peaks_1kb'\n",
    "correction = 'wasp'"
   ]
  },
  {
   "cell_type": "code",
   "execution_count": 3,
   "metadata": {},
   "outputs": [],
   "source": [
    "label = '_'.join([experiment_ids, timepoints, 'windows'])\n",
    "wasp_corrected = True if correction == 'wasp' else False"
   ]
  },
  {
   "cell_type": "markdown",
   "metadata": {},
   "source": [
    "## Imports"
   ]
  },
  {
   "cell_type": "code",
   "execution_count": 4,
   "metadata": {},
   "outputs": [],
   "source": [
    "# general\n",
    "import sys\n",
    "import os"
   ]
  },
  {
   "cell_type": "code",
   "execution_count": 5,
   "metadata": {},
   "outputs": [],
   "source": [
    "import re"
   ]
  },
  {
   "cell_type": "code",
   "execution_count": 6,
   "metadata": {},
   "outputs": [],
   "source": [
    "# tools\n",
    "import numpy as np\n",
    "import pandas as pd\n",
    "import scanpy as sc\n",
    "import scipy\n",
    "from scipy.stats import probplot\n",
    "\n",
    "from dali.utils.stats import apply_fdr_bh\n",
    "\n",
    "sc.settings.verbosity = 3\n",
    "pd.set_option(\"display.max_columns\", None)"
   ]
  },
  {
   "cell_type": "code",
   "execution_count": 7,
   "metadata": {},
   "outputs": [],
   "source": [
    "# plotting\n",
    "import matplotlib\n",
    "import matplotlib.pyplot as plt\n",
    "import seaborn as sns\n",
    "import matplotlib_venn as venn\n",
    "\n",
    "%config InlineBackend.figure_format = 'retina'"
   ]
  },
  {
   "cell_type": "code",
   "execution_count": 8,
   "metadata": {},
   "outputs": [],
   "source": [
    "# local\n",
    "sys.path.append('..')\n",
    "from utils import settings\n",
    "from utils import dataloader"
   ]
  },
  {
   "cell_type": "markdown",
   "metadata": {},
   "source": [
    "## Global variables"
   ]
  },
  {
   "cell_type": "code",
   "execution_count": 9,
   "metadata": {},
   "outputs": [],
   "source": [
    "DALIHOM_PVAL = 'DALIHOM'\n",
    "DALIHET_PVAL = 'DALIHET_VAE'\n",
    "DALIHET_LINEAGE_PVAL = lambda x : 'DALIHET_TIME_%s' % x\n",
    "DALIJOINT_PVAL = 'DALIJOINT'\n",
    "DALIJOINT_RHO = 'DALIJOINT_RHO'"
   ]
  },
  {
   "cell_type": "markdown",
   "metadata": {},
   "source": [
    "## Load processed anndata"
   ]
  },
  {
   "cell_type": "code",
   "execution_count": 10,
   "metadata": {},
   "outputs": [],
   "source": [
    "adata_total = sc.read(os.path.join(settings.DATA_DIR, label, 'total_counts_vae_processed.h5ad'))"
   ]
  },
  {
   "cell_type": "markdown",
   "metadata": {},
   "source": [
    "Load anndata with GP estimates"
   ]
  },
  {
   "cell_type": "code",
   "execution_count": 11,
   "metadata": {},
   "outputs": [],
   "source": [
    "df_all = pd.DataFrame()\n",
    "adatas_allelic = dict()\n",
    "\n",
    "for exp_id in settings.F1_EXP_IDS:\n",
    "    # all tested peaks\n",
    "    fname = '_'.join([exp_id, regions, correction, 'allelic_counts.h5ad'])\n",
    "    adata = sc.read(os.path.join(settings.DATA_DIR, label, fname))\n",
    "    adata_var = adata.var\n",
    "    adata_var['exp_id'] = exp_id\n",
    "    adata_var['base_rate'] = (adata.X.A.sum(0) / adata.layers['allelic_total'].A.sum(0)).ravel()\n",
    "    \n",
    "    # with GP estimates\n",
    "    fname = '_'.join([exp_id, regions, correction, 'allelic_counts_processed.h5ad'])\n",
    "    adata = sc.read(os.path.join(settings.DATA_DIR, label, fname))\n",
    "    adata_var = pd.merge(adata_var, adata.var['qdiff_10'], left_index=True, right_index=True, how='outer', sort=False)\n",
    "    \n",
    "    adata_var = adata_var.reset_index()\n",
    "    df_all = pd.concat([df_all, adata_var], ignore_index=True)\n",
    "    adatas_allelic[exp_id] = adata"
   ]
  },
  {
   "cell_type": "code",
   "execution_count": 12,
   "metadata": {},
   "outputs": [],
   "source": [
    "df_all['TSS_1kb_peak'] = df_all['TSS_1kb_peak'].replace({1: 'proximal', 0: 'distal'}).astype('category')"
   ]
  },
  {
   "cell_type": "code",
   "execution_count": 13,
   "metadata": {},
   "outputs": [],
   "source": [
    "df_all['Het. AI'] = df_all[DALIHET_PVAL + '_bh'] < .1\n",
    "df_all['Hom. AI'] = df_all[DALIHOM_PVAL + '_bh'] < .1\n",
    "df_all['Joint. AI'] = df_all[DALIJOINT_PVAL + '_bh'] < .1"
   ]
  },
  {
   "cell_type": "code",
   "execution_count": 14,
   "metadata": {},
   "outputs": [],
   "source": [
    "pval_cols = [DALIHET_PVAL, DALIHOM_PVAL, DALIJOINT_PVAL]\n",
    "pval_cols += [p + '_bh' for p in pval_cols] + [DALIJOINT_RHO]"
   ]
  },
  {
   "cell_type": "code",
   "execution_count": 15,
   "metadata": {},
   "outputs": [],
   "source": [
    "df = df_all[df_all['Het. AI'] | df_all['Hom. AI'] | df_all['Joint. AI']]\n",
    "df = df[['chr', 'start', 'end', 'n_cells', 'base_rate', 'qdiff_10'] + pval_cols].reset_index(drop=True)"
   ]
  },
  {
   "cell_type": "code",
   "execution_count": 16,
   "metadata": {},
   "outputs": [],
   "source": [
    "df['DALIJOINT_RHO'] = 1 - df['DALIJOINT_RHO']"
   ]
  },
  {
   "cell_type": "code",
   "execution_count": 17,
   "metadata": {},
   "outputs": [],
   "source": [
    "df.to_excel('supplementary_table1.xlsx')"
   ]
  },
  {
   "cell_type": "code",
   "execution_count": 18,
   "metadata": {},
   "outputs": [
    {
     "data": {
      "text/html": [
       "<div>\n",
       "<style scoped>\n",
       "    .dataframe tbody tr th:only-of-type {\n",
       "        vertical-align: middle;\n",
       "    }\n",
       "\n",
       "    .dataframe tbody tr th {\n",
       "        vertical-align: top;\n",
       "    }\n",
       "\n",
       "    .dataframe thead th {\n",
       "        text-align: right;\n",
       "    }\n",
       "</style>\n",
       "<table border=\"1\" class=\"dataframe\">\n",
       "  <thead>\n",
       "    <tr style=\"text-align: right;\">\n",
       "      <th></th>\n",
       "      <th>chr</th>\n",
       "      <th>start</th>\n",
       "      <th>end</th>\n",
       "      <th>n_cells</th>\n",
       "      <th>base_rate</th>\n",
       "      <th>qdiff_10</th>\n",
       "      <th>DALIHET_VAE</th>\n",
       "      <th>DALIHOM</th>\n",
       "      <th>DALIJOINT</th>\n",
       "      <th>DALIHET_VAE_bh</th>\n",
       "      <th>DALIHOM_bh</th>\n",
       "      <th>DALIJOINT_bh</th>\n",
       "      <th>DALIJOINT_RHO</th>\n",
       "    </tr>\n",
       "  </thead>\n",
       "  <tbody>\n",
       "    <tr>\n",
       "      <th>0</th>\n",
       "      <td>chr2L</td>\n",
       "      <td>10056155</td>\n",
       "      <td>10057155</td>\n",
       "      <td>1094</td>\n",
       "      <td>0.549698</td>\n",
       "      <td>NaN</td>\n",
       "      <td>0.925040</td>\n",
       "      <td>0.000358</td>\n",
       "      <td>0.000804</td>\n",
       "      <td>0.973230</td>\n",
       "      <td>0.004853</td>\n",
       "      <td>0.009400</td>\n",
       "      <td>0.000000</td>\n",
       "    </tr>\n",
       "    <tr>\n",
       "      <th>1</th>\n",
       "      <td>chr2L</td>\n",
       "      <td>10056441</td>\n",
       "      <td>10057441</td>\n",
       "      <td>1431</td>\n",
       "      <td>0.543993</td>\n",
       "      <td>NaN</td>\n",
       "      <td>0.899386</td>\n",
       "      <td>0.000599</td>\n",
       "      <td>0.000992</td>\n",
       "      <td>0.965216</td>\n",
       "      <td>0.007408</td>\n",
       "      <td>0.011085</td>\n",
       "      <td>0.000000</td>\n",
       "    </tr>\n",
       "    <tr>\n",
       "      <th>2</th>\n",
       "      <td>chr2L</td>\n",
       "      <td>10056861</td>\n",
       "      <td>10057861</td>\n",
       "      <td>1198</td>\n",
       "      <td>0.539439</td>\n",
       "      <td>NaN</td>\n",
       "      <td>0.700514</td>\n",
       "      <td>0.004859</td>\n",
       "      <td>0.007687</td>\n",
       "      <td>0.893173</td>\n",
       "      <td>0.036865</td>\n",
       "      <td>0.051689</td>\n",
       "      <td>0.000000</td>\n",
       "    </tr>\n",
       "    <tr>\n",
       "      <th>3</th>\n",
       "      <td>chr2L</td>\n",
       "      <td>10209280</td>\n",
       "      <td>10210280</td>\n",
       "      <td>1281</td>\n",
       "      <td>0.555198</td>\n",
       "      <td>NaN</td>\n",
       "      <td>0.189010</td>\n",
       "      <td>0.002309</td>\n",
       "      <td>0.002494</td>\n",
       "      <td>0.639445</td>\n",
       "      <td>0.021133</td>\n",
       "      <td>0.022744</td>\n",
       "      <td>0.333333</td>\n",
       "    </tr>\n",
       "    <tr>\n",
       "      <th>4</th>\n",
       "      <td>chr2L</td>\n",
       "      <td>10209883</td>\n",
       "      <td>10210883</td>\n",
       "      <td>1031</td>\n",
       "      <td>0.564842</td>\n",
       "      <td>NaN</td>\n",
       "      <td>0.646358</td>\n",
       "      <td>0.000377</td>\n",
       "      <td>0.000437</td>\n",
       "      <td>0.874372</td>\n",
       "      <td>0.005064</td>\n",
       "      <td>0.005752</td>\n",
       "      <td>0.333333</td>\n",
       "    </tr>\n",
       "    <tr>\n",
       "      <th>...</th>\n",
       "      <td>...</td>\n",
       "      <td>...</td>\n",
       "      <td>...</td>\n",
       "      <td>...</td>\n",
       "      <td>...</td>\n",
       "      <td>...</td>\n",
       "      <td>...</td>\n",
       "      <td>...</td>\n",
       "      <td>...</td>\n",
       "      <td>...</td>\n",
       "      <td>...</td>\n",
       "      <td>...</td>\n",
       "      <td>...</td>\n",
       "    </tr>\n",
       "    <tr>\n",
       "      <th>8806</th>\n",
       "      <td>chr3R</td>\n",
       "      <td>9926907</td>\n",
       "      <td>9927907</td>\n",
       "      <td>748</td>\n",
       "      <td>0.456506</td>\n",
       "      <td>NaN</td>\n",
       "      <td>0.036037</td>\n",
       "      <td>0.100719</td>\n",
       "      <td>0.014128</td>\n",
       "      <td>0.411720</td>\n",
       "      <td>0.293201</td>\n",
       "      <td>0.079250</td>\n",
       "      <td>0.777778</td>\n",
       "    </tr>\n",
       "    <tr>\n",
       "      <th>8807</th>\n",
       "      <td>chr3R</td>\n",
       "      <td>9985324</td>\n",
       "      <td>9986324</td>\n",
       "      <td>885</td>\n",
       "      <td>0.535828</td>\n",
       "      <td>NaN</td>\n",
       "      <td>0.092381</td>\n",
       "      <td>0.008634</td>\n",
       "      <td>0.022363</td>\n",
       "      <td>0.537567</td>\n",
       "      <td>0.056202</td>\n",
       "      <td>0.108883</td>\n",
       "      <td>0.222222</td>\n",
       "    </tr>\n",
       "    <tr>\n",
       "      <th>8808</th>\n",
       "      <td>chr3R</td>\n",
       "      <td>9985565</td>\n",
       "      <td>9986565</td>\n",
       "      <td>885</td>\n",
       "      <td>0.535828</td>\n",
       "      <td>NaN</td>\n",
       "      <td>0.092381</td>\n",
       "      <td>0.008634</td>\n",
       "      <td>0.022363</td>\n",
       "      <td>0.537567</td>\n",
       "      <td>0.056202</td>\n",
       "      <td>0.108883</td>\n",
       "      <td>0.222222</td>\n",
       "    </tr>\n",
       "    <tr>\n",
       "      <th>8809</th>\n",
       "      <td>chr3R</td>\n",
       "      <td>9985834</td>\n",
       "      <td>9986834</td>\n",
       "      <td>885</td>\n",
       "      <td>0.535828</td>\n",
       "      <td>NaN</td>\n",
       "      <td>0.092381</td>\n",
       "      <td>0.008634</td>\n",
       "      <td>0.022363</td>\n",
       "      <td>0.537567</td>\n",
       "      <td>0.056202</td>\n",
       "      <td>0.108883</td>\n",
       "      <td>0.222222</td>\n",
       "    </tr>\n",
       "    <tr>\n",
       "      <th>8810</th>\n",
       "      <td>chr4</td>\n",
       "      <td>505293</td>\n",
       "      <td>506293</td>\n",
       "      <td>683</td>\n",
       "      <td>0.551556</td>\n",
       "      <td>NaN</td>\n",
       "      <td>0.435786</td>\n",
       "      <td>0.019397</td>\n",
       "      <td>0.033779</td>\n",
       "      <td>0.785022</td>\n",
       "      <td>0.099451</td>\n",
       "      <td>0.143438</td>\n",
       "      <td>0.111111</td>\n",
       "    </tr>\n",
       "  </tbody>\n",
       "</table>\n",
       "<p>8811 rows × 13 columns</p>\n",
       "</div>"
      ],
      "text/plain": [
       "        chr     start       end  n_cells  base_rate  qdiff_10  DALIHET_VAE  \\\n",
       "0     chr2L  10056155  10057155     1094   0.549698       NaN     0.925040   \n",
       "1     chr2L  10056441  10057441     1431   0.543993       NaN     0.899386   \n",
       "2     chr2L  10056861  10057861     1198   0.539439       NaN     0.700514   \n",
       "3     chr2L  10209280  10210280     1281   0.555198       NaN     0.189010   \n",
       "4     chr2L  10209883  10210883     1031   0.564842       NaN     0.646358   \n",
       "...     ...       ...       ...      ...        ...       ...          ...   \n",
       "8806  chr3R   9926907   9927907      748   0.456506       NaN     0.036037   \n",
       "8807  chr3R   9985324   9986324      885   0.535828       NaN     0.092381   \n",
       "8808  chr3R   9985565   9986565      885   0.535828       NaN     0.092381   \n",
       "8809  chr3R   9985834   9986834      885   0.535828       NaN     0.092381   \n",
       "8810   chr4    505293    506293      683   0.551556       NaN     0.435786   \n",
       "\n",
       "       DALIHOM  DALIJOINT  DALIHET_VAE_bh  DALIHOM_bh  DALIJOINT_bh  \\\n",
       "0     0.000358   0.000804        0.973230    0.004853      0.009400   \n",
       "1     0.000599   0.000992        0.965216    0.007408      0.011085   \n",
       "2     0.004859   0.007687        0.893173    0.036865      0.051689   \n",
       "3     0.002309   0.002494        0.639445    0.021133      0.022744   \n",
       "4     0.000377   0.000437        0.874372    0.005064      0.005752   \n",
       "...        ...        ...             ...         ...           ...   \n",
       "8806  0.100719   0.014128        0.411720    0.293201      0.079250   \n",
       "8807  0.008634   0.022363        0.537567    0.056202      0.108883   \n",
       "8808  0.008634   0.022363        0.537567    0.056202      0.108883   \n",
       "8809  0.008634   0.022363        0.537567    0.056202      0.108883   \n",
       "8810  0.019397   0.033779        0.785022    0.099451      0.143438   \n",
       "\n",
       "      DALIJOINT_RHO  \n",
       "0          0.000000  \n",
       "1          0.000000  \n",
       "2          0.000000  \n",
       "3          0.333333  \n",
       "4          0.333333  \n",
       "...             ...  \n",
       "8806       0.777778  \n",
       "8807       0.222222  \n",
       "8808       0.222222  \n",
       "8809       0.222222  \n",
       "8810       0.111111  \n",
       "\n",
       "[8811 rows x 13 columns]"
      ]
     },
     "execution_count": 18,
     "metadata": {},
     "output_type": "execute_result"
    }
   ],
   "source": [
    "df"
   ]
  }
 ],
 "metadata": {
  "kernelspec": {
   "display_name": "f1_analysis",
   "language": "python",
   "name": "f1_analysis"
  },
  "language_info": {
   "codemirror_mode": {
    "name": "ipython",
    "version": 3
   },
   "file_extension": ".py",
   "mimetype": "text/x-python",
   "name": "python",
   "nbconvert_exporter": "python",
   "pygments_lexer": "ipython3",
   "version": "3.6.10"
  }
 },
 "nbformat": 4,
 "nbformat_minor": 4
}
