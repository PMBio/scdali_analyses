{
 "cells": [
  {
   "cell_type": "markdown",
   "metadata": {},
   "source": [
    "# scDALI discoveries using alternative cell-state representations"
   ]
  },
  {
   "cell_type": "code",
   "execution_count": 1,
   "metadata": {},
   "outputs": [],
   "source": [
    "experiment_ids = 'f1'\n",
    "timepoints = 'all'\n",
    "regions = 'cusanovich_dm6_peaks_1kb'\n",
    "correction = 'wasp'"
   ]
  },
  {
   "cell_type": "code",
   "execution_count": 2,
   "metadata": {},
   "outputs": [],
   "source": [
    "label = '_'.join([experiment_ids, timepoints, 'windows'])\n",
    "wasp_corrected = True if correction == 'wasp' else False"
   ]
  },
  {
   "cell_type": "markdown",
   "metadata": {},
   "source": [
    "## Imports"
   ]
  },
  {
   "cell_type": "code",
   "execution_count": 3,
   "metadata": {},
   "outputs": [],
   "source": [
    "# general\n",
    "import sys\n",
    "import os"
   ]
  },
  {
   "cell_type": "code",
   "execution_count": 4,
   "metadata": {},
   "outputs": [],
   "source": [
    "# tools\n",
    "import numpy as np\n",
    "import pandas as pd\n",
    "import scanpy as sc\n",
    "\n",
    "from scdali import run_tests\n",
    "\n",
    "sc.settings.verbosity = 3"
   ]
  },
  {
   "cell_type": "code",
   "execution_count": 5,
   "metadata": {},
   "outputs": [],
   "source": [
    "# plotting\n",
    "import matplotlib\n",
    "import matplotlib.pyplot as plt\n",
    "import seaborn as sns\n",
    "\n",
    "%config InlineBackend.figure_format = 'retina'"
   ]
  },
  {
   "cell_type": "code",
   "execution_count": 6,
   "metadata": {},
   "outputs": [],
   "source": [
    "# local\n",
    "sys.path.append('..')\n",
    "from utils import settings"
   ]
  },
  {
   "cell_type": "markdown",
   "metadata": {},
   "source": [
    "## Global variables"
   ]
  },
  {
   "cell_type": "code",
   "execution_count": 7,
   "metadata": {},
   "outputs": [],
   "source": [
    "DALIHOM_PVAL = 'DALIHOM'\n",
    "DALIHET_PVAL = 'DALIHET_VAE'\n",
    "DALIHET_LINEAGE_PVAL = lambda x : 'DALIHET_TIME_%s' % x\n",
    "DALIJOINT_PVAL = 'DALIJOINT'\n",
    "DALIJOINT_RHO = 'DALIJOINT_RHO'"
   ]
  },
  {
   "cell_type": "markdown",
   "metadata": {},
   "source": [
    "## Plot settings"
   ]
  },
  {
   "cell_type": "code",
   "execution_count": 8,
   "metadata": {},
   "outputs": [],
   "source": [
    "SAVE_PLOTS = True"
   ]
  },
  {
   "cell_type": "code",
   "execution_count": 9,
   "metadata": {},
   "outputs": [],
   "source": [
    "%config InlineBackend.figure_format = 'retina'\n",
    "\n",
    "plt.rcParams['font.sans-serif'] = \"Arial\"\n",
    "plt.rcParams['font.family'] = \"sans-serif\"\n",
    "plt.rcParams['svg.fonttype'] = 'none'\n",
    "plt.rcParams['font.size'] = 7\n",
    "sns.set_style(\"ticks\")"
   ]
  },
  {
   "cell_type": "code",
   "execution_count": 10,
   "metadata": {},
   "outputs": [],
   "source": [
    "PLOT_DIRECTORY = 'figures/cellstate_comparison'\n",
    "if not os.path.exists(PLOT_DIRECTORY):\n",
    "    os.makedirs(PLOT_DIRECTORY)"
   ]
  },
  {
   "cell_type": "markdown",
   "metadata": {},
   "source": [
    "## Load processed anndata"
   ]
  },
  {
   "cell_type": "code",
   "execution_count": 11,
   "metadata": {},
   "outputs": [],
   "source": [
    "adata_total = sc.read(os.path.join(settings.DATA_DIR, label, 'total_counts_vae_processed.h5ad'))"
   ]
  },
  {
   "cell_type": "code",
   "execution_count": 12,
   "metadata": {},
   "outputs": [],
   "source": [
    "cistopic_emb = pd.read_csv(os.path.join(settings.DATA_DIR, 'cistopic', 'topic.embedding.50.txt'), sep='\\t')\n",
    "cistopic_emb.index = adata_total.obs_names\n",
    "adata_total.obsm['X_lda'] = cistopic_emb"
   ]
  },
  {
   "cell_type": "code",
   "execution_count": 13,
   "metadata": {},
   "outputs": [],
   "source": [
    "fname = '_'.join(['SS148', regions, correction, 'allelic_counts.h5ad'])\n",
    "adata = sc.read(os.path.join(settings.DATA_DIR, label, fname))\n",
    "adata.obsm = adata_total[adata.obs_names, :].obsm"
   ]
  },
  {
   "cell_type": "code",
   "execution_count": 14,
   "metadata": {},
   "outputs": [
    {
     "data": {
      "text/plain": [
       "AnnData object with n_obs × n_vars = 10220 × 12861\n",
       "    obs: 'timepoint', 'exp_id', 'time_vae', 'leiden_vae', 'lineage_muscle', 'lineage_nervous', 'annotation', 'n_peaks_by_counts', 'log1p_n_peaks_by_counts', 'total_counts', 'log1p_total_counts', 'pct_counts_in_top_50_peaks', 'pct_counts_in_top_100_peaks', 'pct_counts_in_top_200_peaks', 'pct_counts_in_top_500_peaks'\n",
       "    var: 'chr', 'start', 'end', 'length', 'n_cells', 'n_cells_by_counts', 'mean_counts', 'log1p_mean_counts', 'pct_dropout_by_counts', 'total_counts', 'log1p_total_counts', 'count_variance', 'allelic_counts', 'mean_accessible', 'lineage_muscle_covered', 'lineage_nervous_covered', 'dalihet_vae', 'dalihet_leiden', 'dalihet_time', 'dalijoint', 'dalijoint_rho', 'lrt', 'dalihet_time_muscle', 'dalihet_time_nervous', 'BDGP_dist', 'BDGP_name', 'BDGP_terms', 'CAD_overlap', 'CAD_terms', 'DHS_peak', 'DN_peak', 'ELAV_peak', 'MEF_peak', 'TSS_1kb_peak', 'dalihet_time_muscle_bh', 'dalihet_time_nervous_bh', 'dalihet_vae_bh', 'dalihet_vae_ihw', 'dalijoint_bh', 'lrt_bh', 'DALIHET_VAE', 'DALIHET_LEIDEN', 'DALIHET_TIME', 'DALIJOINT', 'DALIJOINT_RHO', 'DALIHOM', 'DALIHET_TIME_muscle', 'DALIHET_TIME_nervous', 'DALIHET_VAE_bh', 'DALIHOM_bh', 'DALIJOINT_bh', 'pbulk_rate', 'bulk_pval'\n",
       "    uns: 'annotation_colors', 'leiden_vae_colors', 'timepoint_colors'\n",
       "    obsm: 'X_pca', 'X_umap', 'X_vae', 'X_lda'\n",
       "    layers: 'allelic_total'"
      ]
     },
     "execution_count": 14,
     "metadata": {},
     "output_type": "execute_result"
    }
   ],
   "source": [
    "adata"
   ]
  },
  {
   "cell_type": "code",
   "execution_count": 27,
   "metadata": {},
   "outputs": [
    {
     "data": {
      "text/plain": [
       "(10220, 19)"
      ]
     },
     "execution_count": 27,
     "metadata": {},
     "output_type": "execute_result"
    }
   ],
   "source": [
    "adata.obsm['X_pca'].shape"
   ]
  },
  {
   "cell_type": "code",
   "execution_count": 28,
   "metadata": {},
   "outputs": [
    {
     "data": {
      "text/plain": [
       "(10220, 50)"
      ]
     },
     "execution_count": 28,
     "metadata": {},
     "output_type": "execute_result"
    }
   ],
   "source": [
    "adata.obsm['X_lda'].shape"
   ]
  },
  {
   "cell_type": "code",
   "execution_count": 15,
   "metadata": {},
   "outputs": [
    {
     "name": "stdout",
     "output_type": "stream",
     "text": [
      "[scdali] Processing 12861 regions on 10 core(s) ... \n"
     ]
    },
    {
     "name": "stderr",
     "output_type": "stream",
     "text": [
      "100%|██████████| 10/10 [05:03<00:00, 30.31s/it]\n"
     ]
    }
   ],
   "source": [
    "results_vae = run_tests(A=adata.X.A, D=adata.layers['allelic_total'].A, model='scDALI-Het', cell_state=adata.obsm['X_vae'] / adata.obsm['X_vae'].max(), n_cores=10)"
   ]
  },
  {
   "cell_type": "code",
   "execution_count": 16,
   "metadata": {},
   "outputs": [
    {
     "name": "stdout",
     "output_type": "stream",
     "text": [
      "[scdali] Processing 12861 regions on 10 core(s) ... \n"
     ]
    },
    {
     "name": "stderr",
     "output_type": "stream",
     "text": [
      "100%|██████████| 10/10 [04:10<00:00, 25.07s/it]\n"
     ]
    }
   ],
   "source": [
    "results_pca = run_tests(A=adata.X.A, D=adata.layers['allelic_total'].A, model='scDALI-Het', cell_state=adata.obsm['X_pca'] / adata.obsm['X_pca'].max(), n_cores=10)"
   ]
  },
  {
   "cell_type": "code",
   "execution_count": 17,
   "metadata": {},
   "outputs": [
    {
     "name": "stdout",
     "output_type": "stream",
     "text": [
      "[scdali] Processing 12861 regions on 10 core(s) ... \n"
     ]
    },
    {
     "name": "stderr",
     "output_type": "stream",
     "text": [
      "100%|██████████| 10/10 [04:14<00:00, 25.48s/it]\n"
     ]
    }
   ],
   "source": [
    "results_lda = run_tests(A=adata.X.A, D=adata.layers['allelic_total'].A, model='scDALI-Het', cell_state=adata.obsm['X_lda'] / adata.obsm['X_lda'].max(), n_cores=10)"
   ]
  },
  {
   "cell_type": "code",
   "execution_count": 24,
   "metadata": {},
   "outputs": [
    {
     "name": "stdout",
     "output_type": "stream",
     "text": [
      "[3.6 1.8]\n"
     ]
    },
    {
     "data": {
      "image/png": "[encoded data removed]",
      "text/plain": [
       "<Figure size 259.2x129.6 with 2 Axes>"
      ]
     },
     "metadata": {
      "image/png": {
       "height": 129,
       "width": 257
      }
     },
     "output_type": "display_data"
    }
   ],
   "source": [
    "fig, axes = plt.subplots(1, 2, figsize=(3.6, 1.8))\n",
    "\n",
    "ax = axes[0]\n",
    "sns.scatterplot(\n",
    "    x=-np.log10(results_vae['pvalues']), \n",
    "    y=-np.log10(results_pca['pvalues']),\n",
    "    edgecolor=None, \n",
    "    rasterized=True,\n",
    "    s=7,\n",
    "    ax=ax\n",
    ")\n",
    "ax.set(\n",
    "    xlabel=r'$-\\log_{10}P$ (cell-state = VAE)', \n",
    "    ylabel=r'$-\\log_{10}P$ (cell-state = LSI)',\n",
    "    xlim=[-.5, 15], ylim=[-.5, 15], \n",
    "    xticks=np.linspace(0, 15, 4),\n",
    "    yticks=np.linspace(0, 15, 4))\n",
    "ax_max = max(ax.get_ylim()[1], ax.get_xlim()[1])\n",
    "ax.plot([0, ax_max], [0, ax_max], alpha=0.8, linestyle=':', c='lightgrey', linewidth=1)\n",
    "\n",
    "ax = axes[1]\n",
    "ax = sns.scatterplot(\n",
    "    x=-np.log10(results_vae['pvalues']), \n",
    "    y=-np.log10(results_lda['pvalues']),\n",
    "    edgecolor=None, \n",
    "    rasterized=True,\n",
    "    s=7,\n",
    "    ax=ax\n",
    ")\n",
    "ax.set(\n",
    "    xlabel=r'$-\\log_{10}P$ (cell-state = VAE)', \n",
    "    ylabel=r'$-\\log_{10}P$ (cell-state = LDA)',\n",
    "    xlim=[-.5, 15], ylim=[-.5, 15],\n",
    "    xticks=np.linspace(0, 15, 4),\n",
    "    yticks=np.linspace(0, 15, 4))\n",
    "ax_max = max(ax.get_ylim()[1], ax.get_xlim()[1])\n",
    "ax.plot([0, ax_max], [0, ax_max], alpha=0.8, linestyle=':', c='lightgrey', linewidth=1)\n",
    "\n",
    "plt.tight_layout()\n",
    "sns.despine()\n",
    "\n",
    "print(fig.get_size_inches())\n",
    "if SAVE_PLOTS:\n",
    "    fig.savefig(PLOT_DIRECTORY + '/cellstate_comparison.svg', dpi=350)"
   ]
  }
 ],
 "metadata": {
  "kernelspec": {
   "display_name": "scdali_analyses",
   "language": "python",
   "name": "scdali_analyses"
  },
  "language_info": {
   "codemirror_mode": {
    "name": "ipython",
    "version": 3
   },
   "file_extension": ".py",
   "mimetype": "text/x-python",
   "name": "python",
   "nbconvert_exporter": "python",
   "pygments_lexer": "ipython3",
   "version": "3.9.7"
  }
 },
 "nbformat": 4,
 "nbformat_minor": 4
}
