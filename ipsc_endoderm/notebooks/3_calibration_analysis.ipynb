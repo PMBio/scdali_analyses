{
 "cells": [
  {
   "cell_type": "markdown",
   "metadata": {},
   "source": [
    "# Calibration analysis for multi-donor single-cell data"
   ]
  },
  {
   "cell_type": "code",
   "execution_count": 16,
   "metadata": {},
   "outputs": [],
   "source": [
    "import pandas as pd\n",
    "import numpy as np\n",
    "\n",
    "import scanpy as sc\n",
    "import scdali\n",
    "\n",
    "import matplotlib.pyplot as plt\n",
    "import seaborn as sns"
   ]
  },
  {
   "cell_type": "code",
   "execution_count": 17,
   "metadata": {},
   "outputs": [],
   "source": [
    "N_PCS = 20"
   ]
  },
  {
   "cell_type": "code",
   "execution_count": 18,
   "metadata": {},
   "outputs": [],
   "source": [
    "def qqplot(x, ax, **plot_kwargs):\n",
    "    from scipy.stats import probplot\n",
    "    (osm, osr), _ = probplot(x, dist='uniform')\n",
    "    df = pd.DataFrame({'osm': -np.log10(osm), 'osr': -np.log10(osr)})\n",
    "    sns.scatterplot(x='osm', y='osr', data=df, ax=ax, edgecolor=None, s=12, **plot_kwargs)\n",
    "    m = max(ax.get_xlim()[1], ax.get_ylim()[1])\n",
    "    ax.plot([0, m], [0, m], c='grey', linestyle=':')\n",
    "    ax.set(xlabel=r'Expected $-\\log_{10} P$', ylabel=r'Observed $-\\log_{10} P$')\n",
    "    \n",
    "def get_cell_states(adata, N_PCS):\n",
    "    E = adata.obsm['X_pca'][:, :N_PCS]\n",
    "    return E / np.sqrt(np.var(E, 0))"
   ]
  },
  {
   "cell_type": "code",
   "execution_count": 19,
   "metadata": {},
   "outputs": [],
   "source": [
    "np.random.seed(123)"
   ]
  },
  {
   "cell_type": "markdown",
   "metadata": {},
   "source": [
    "## Load counts and PCs"
   ]
  },
  {
   "cell_type": "code",
   "execution_count": 5,
   "metadata": {},
   "outputs": [
    {
     "data": {
      "text/plain": [
       "AnnData object with n_obs × n_vars = 34254 × 3966\n",
       "    obs: 'assigned', 'auxDir', 'cell_filter', 'cell_name', 'compatible_fragment_ratio', 'day', 'donor', 'expected_format', 'experiment', 'frag_dist_length', 'gc_bias_correct', 'is_cell_control', 'is_cell_control_bulk', 'is_cell_control_control', 'library_types', 'libType', 'log10_total_counts', 'log10_total_counts_endogenous', 'log10_total_counts_ERCC', 'log10_total_counts_feature_control', 'log10_total_counts_MT', 'log10_total_features', 'log10_total_features_endogenous', 'log10_total_features_ERCC', 'log10_total_features_feature_control', 'log10_total_features_MT', 'mapping_type', 'mates1', 'mates2', 'n_alt_reads', 'n_total_reads', 'num_assigned_fragments', 'num_bias_bins', 'num_bootstraps', 'num_compatible_fragments', 'num_consistent_mappings', 'num_inconsistent_mappings', 'num_libraries', 'num_mapped', 'num_processed', 'num_targets', 'nvars_used', 'pct_counts_endogenous', 'pct_counts_ERCC', 'pct_counts_feature_control', 'pct_counts_MT', 'pct_counts_top_100_features', 'pct_counts_top_100_features_endogenous', 'pct_counts_top_100_features_feature_control', 'pct_counts_top_200_features', 'pct_counts_top_200_features_endogenous', 'pct_counts_top_50_features', 'pct_counts_top_50_features_endogenous', 'pct_counts_top_50_features_ERCC', 'pct_counts_top_50_features_feature_control', 'pct_counts_top_500_features', 'pct_counts_top_500_features_endogenous', 'percent_mapped', 'plate_id', 'plate_well_id', 'post_prob', 'public_name', 'read_files', 'salmon_version', 'samp_type', 'sample_id', 'seq_bias_correct', 'size_factor', 'start_time', 'strand_mapping_bias', 'total_counts', 'total_counts_endogenous', 'total_counts_ERCC', 'total_counts_feature_control', 'total_counts_MT', 'total_features', 'total_features_endogenous', 'total_features_ERCC', 'total_features_feature_control', 'total_features_MT', 'used_in_expt', 'well_id', 'well_type', 'donor_short_id', 'donor_long_id', 'pseudo', 'PC1_top100hvgs', 'PC1_top200hvgs', 'PC1_top500hvgs', 'PC1_top1000hvgs', 'PC1_top2000hvgs', 'princ_curve', 'princ_curve_scaled01', 'leiden', 'TAC3', 'UTF1', 'CPNE1'\n",
       "    var: 'ensembl_gene_id', 'snp_id', 'pval_orig_pub', 'qval_orig_pub', 'pval_pc1_dali', 'pval_pc1_dalirs', 'pval_pc2_dali', 'pval_pc2_dalirs', 'pval_pc3_dali', 'pval_pc3_dalirs', 'pval_pc4_dali', 'pval_pc4_dalirs', 'pval_pc5_dali', 'pval_pc5_dalirs', 'pval_pc10_dali', 'pval_pc10_dalirs', 'pval_pc15_dali', 'pval_pc15_dalirs', 'pval_pc20_dali', 'pval_pc20_dalirs', 'pval_pc20_dali_rnd', 'pval_pc20_dali_rndrs', 'pval_pc20_dalirs_rndrs'\n",
       "    uns: 'leiden', 'neighbors', 'umap'\n",
       "    obsm: 'X_pca', 'X_umap'\n",
       "    layers: 'allelic_total'\n",
       "    obsp: 'connectivities', 'distances'"
      ]
     },
     "execution_count": 5,
     "metadata": {},
     "output_type": "execute_result"
    }
   ],
   "source": [
    "adata = sc.read('../data/endoderm_ase_processed.h5ad')\n",
    "adata"
   ]
  },
  {
   "cell_type": "code",
   "execution_count": 6,
   "metadata": {},
   "outputs": [
    {
     "name": "stderr",
     "output_type": "stream",
     "text": [
      "/icgc/dkfzlsdf/analysis/B260/users/heinent/envs/f1_analysis/lib/python3.6/site-packages/anndata/_core/anndata.py:1094: FutureWarning: is_categorical is deprecated and will be removed in a future version.  Use is_categorical_dtype instead\n",
      "  if not is_categorical(df_full[k]):\n"
     ]
    }
   ],
   "source": [
    "adata = adata[adata.obs.sort_values('donor').index, :]\n",
    "A = adata.X.A\n",
    "D = adata.layers['allelic_total'].A\n",
    "X = pd.get_dummies(adata.obs['donor']).to_numpy()"
   ]
  },
  {
   "cell_type": "markdown",
   "metadata": {},
   "source": [
    "## Randomize"
   ]
  },
  {
   "cell_type": "markdown",
   "metadata": {},
   "source": [
    "### Permute cell states"
   ]
  },
  {
   "cell_type": "code",
   "execution_count": 7,
   "metadata": {},
   "outputs": [],
   "source": [
    "E = get_cell_states(adata, N_PCS)\n",
    "E = E[np.random.permutation(range(E.shape[0])), :]"
   ]
  },
  {
   "cell_type": "code",
   "execution_count": 8,
   "metadata": {},
   "outputs": [
    {
     "name": "stdout",
     "output_type": "stream",
     "text": [
      "[scdali] Processing 3966 regions on 10 core(s) ... \n"
     ]
    },
    {
     "name": "stderr",
     "output_type": "stream",
     "text": [
      "100%|██████████| 10/10 [05:52<00:00, 35.23s/it]\n",
      "Trying to set attribute `.var` of view, copying.\n"
     ]
    }
   ],
   "source": [
    "adata.var[f'pval_pc{N_PCS}_dali_rnd'] = scdali.run_scdali(\n",
    "    A=A, D=D, model='scDALI-Het', cell_state=E, n_cores=10)['pvalues']"
   ]
  },
  {
   "cell_type": "markdown",
   "metadata": {},
   "source": [
    "### Permute cell states within individuals"
   ]
  },
  {
   "cell_type": "code",
   "execution_count": 9,
   "metadata": {},
   "outputs": [],
   "source": [
    "E_ids = adata.obs.groupby('donor').sample(frac=1).index\n",
    "E = get_cell_states(adata[E_ids, :], N_PCS)"
   ]
  },
  {
   "cell_type": "markdown",
   "metadata": {},
   "source": [
    "Not accounting for donor background"
   ]
  },
  {
   "cell_type": "code",
   "execution_count": 10,
   "metadata": {},
   "outputs": [
    {
     "name": "stdout",
     "output_type": "stream",
     "text": [
      "[scdali] Processing 3966 regions on 10 core(s) ... \n"
     ]
    },
    {
     "name": "stderr",
     "output_type": "stream",
     "text": [
      "100%|██████████| 10/10 [05:42<00:00, 34.20s/it]\n"
     ]
    }
   ],
   "source": [
    "adata.var[f'pval_pc{N_PCS}_dali_rndrs'] = scdali.run_scdali(\n",
    "    A=A, D=D, model='scDALI-Het', cell_state=E, n_cores=10)['pvalues']"
   ]
  },
  {
   "cell_type": "markdown",
   "metadata": {},
   "source": [
    "Donor background as fixed effect"
   ]
  },
  {
   "cell_type": "code",
   "execution_count": 11,
   "metadata": {},
   "outputs": [
    {
     "name": "stdout",
     "output_type": "stream",
     "text": [
      "[scdali] Processing 3966 regions on 10 core(s) ... \n"
     ]
    },
    {
     "name": "stderr",
     "output_type": "stream",
     "text": [
      "100%|██████████| 10/10 [29:29<00:00, 176.96s/it] \n"
     ]
    }
   ],
   "source": [
    "adata.var[f'pval_pc{N_PCS}_dalirs_rndrs'] = scdali.run_scdali(\n",
    "    A=A, D=D, X=X, model='scDALI-Het', cell_state=E, n_cores=10)['pvalues']"
   ]
  },
  {
   "cell_type": "markdown",
   "metadata": {},
   "source": [
    "## Save"
   ]
  },
  {
   "cell_type": "code",
   "execution_count": 12,
   "metadata": {},
   "outputs": [
    {
     "name": "stderr",
     "output_type": "stream",
     "text": [
      "/icgc/dkfzlsdf/analysis/B260/users/heinent/envs/f1_analysis/lib/python3.6/site-packages/anndata/_core/anndata.py:1192: FutureWarning: is_categorical is deprecated and will be removed in a future version.  Use is_categorical_dtype instead\n",
      "  if is_string_dtype(df[key]) and not is_categorical(df[key])\n"
     ]
    }
   ],
   "source": [
    "sc.write('../data/endoderm_ase_processed.h5ad', adata)"
   ]
  },
  {
   "cell_type": "markdown",
   "metadata": {},
   "source": [
    "## Plot"
   ]
  },
  {
   "cell_type": "code",
   "execution_count": 20,
   "metadata": {},
   "outputs": [],
   "source": [
    "plot_final = True\n",
    "\n",
    "OUT_RC_PARAMS = {'font.size': 8, 'figure.figsize': (2.8, 2.3)} if plot_final else {}\n",
    "for k, v in OUT_RC_PARAMS.items():\n",
    "    plt.rcParams[k] = v"
   ]
  },
  {
   "cell_type": "code",
   "execution_count": 21,
   "metadata": {},
   "outputs": [],
   "source": [
    "adata = sc.read('../data/endoderm_ase_processed.h5ad')"
   ]
  },
  {
   "cell_type": "code",
   "execution_count": 22,
   "metadata": {},
   "outputs": [
    {
     "name": "stderr",
     "output_type": "stream",
     "text": [
      "/icgc/dkfzlsdf/analysis/B260/users/heinent/projects/scdali_analyses/ipsc_endoderm/notebooks/utils.py:68: RuntimeWarning: divide by zero encountered in log10\n",
      "  df = pd.DataFrame({'osm': -np.log10(osm), 'osr': -np.log10(osr)})\n"
     ]
    },
    {
     "data": {
      "image/png": "[encoded data removed]",
      "text/plain": [
       "<Figure size 604.8x165.6 with 3 Axes>"
      ]
     },
     "metadata": {
      "needs_background": "light"
     },
     "output_type": "display_data"
    }
   ],
   "source": [
    "fig, axes = plt.subplots(1, 3, figsize=(3 * plt.rcParams['figure.figsize'][0], plt.rcParams['figure.figsize'][1]))\n",
    "qqplot(adata.var[f'pval_pc{N_PCS}_dali_rnd'], axes[0])\n",
    "qqplot(adata.var[f'pval_pc{N_PCS}_dali_rndrs'], axes[1])\n",
    "qqplot(adata.var[f'pval_pc{N_PCS}_dalirs_rndrs'], axes[2])"
   ]
  },
  {
   "cell_type": "code",
   "execution_count": 47,
   "metadata": {},
   "outputs": [
    {
     "name": "stderr",
     "output_type": "stream",
     "text": [
      "/icgc/dkfzlsdf/analysis/B260/users/heinent/projects/scdali_analyses/ipsc_endoderm/notebooks/utils.py:68: RuntimeWarning: divide by zero encountered in log10\n",
      "  df = pd.DataFrame({'osm': -np.log10(osm), 'osr': -np.log10(osr)})\n"
     ]
    },
    {
     "data": {
      "image/png": "[encoded data removed]",
      "text/plain": [
       "<Figure size 423.36x182.16 with 2 Axes>"
      ]
     },
     "metadata": {
      "needs_background": "light"
     },
     "output_type": "display_data"
    }
   ],
   "source": [
    "colors = np.asarray(np.asarray(sns.color_palette(\"Paired\"))[:2])\n",
    "fig, axes = plt.subplots(1, 2, figsize=(2.1 * plt.rcParams['figure.figsize'][0], 1.1*plt.rcParams['figure.figsize'][1]))\n",
    "qqplot(adata.var[f'pval_pc{N_PCS}_dali_rndrs'], axes[0], rasterized=True, c=colors[np.newaxis, 0, :])\n",
    "qqplot(adata.var[f'pval_pc{N_PCS}_dalirs_rndrs'], axes[1], rasterized=True, c=colors[np.newaxis, 1, :])\n",
    "axes[0].set(title='scDALI-Het')\n",
    "axes[1].set(title='scDALI-Het\\nwith donor ID')\n",
    "plt.tight_layout()\n",
    "sns.despine()\n",
    "\n",
    "if plot_final:\n",
    "    plt.savefig('plots/calibration_qqplot.svg', dpi=300)"
   ]
  },
  {
   "cell_type": "code",
   "execution_count": null,
   "metadata": {},
   "outputs": [],
   "source": []
  }
 ],
 "metadata": {
  "kernelspec": {
   "display_name": "f1_analysis",
   "language": "python",
   "name": "f1_analysis"
  },
  "language_info": {
   "codemirror_mode": {
    "name": "ipython",
    "version": 3
   },
   "file_extension": ".py",
   "mimetype": "text/x-python",
   "name": "python",
   "nbconvert_exporter": "python",
   "pygments_lexer": "ipython3",
   "version": "3.6.10"
  }
 },
 "nbformat": 4,
 "nbformat_minor": 4
}
