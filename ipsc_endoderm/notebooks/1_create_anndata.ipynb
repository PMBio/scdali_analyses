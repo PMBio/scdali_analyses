{
 "cells": [
  {
   "cell_type": "markdown",
   "metadata": {},
   "source": [
    "# Create anndata file from .tsv files & annotation"
   ]
  },
  {
   "cell_type": "code",
   "execution_count": 1,
   "metadata": {},
   "outputs": [],
   "source": [
    "import pandas as pd\n",
    "import numpy as np\n",
    "\n",
    "import scanpy as sc\n",
    "from anndata import AnnData\n",
    "\n",
    "from scipy.sparse import csr_matrix, save_npz"
   ]
  },
  {
   "cell_type": "markdown",
   "metadata": {},
   "source": [
    "Load total and allele-specific counts produced in the original analysis:"
   ]
  },
  {
   "cell_type": "code",
   "execution_count": 2,
   "metadata": {},
   "outputs": [],
   "source": [
    "counts_total = pd.read_csv('../data/complete_ase_phased.total_counts.all_leads.tsv', sep='\\t')\n",
    "counts_allelic = pd.read_csv('../data/complete_ase_phased.allelic_counts.all_leads.tsv', sep='\\t')"
   ]
  },
  {
   "cell_type": "code",
   "execution_count": 16,
   "metadata": {},
   "outputs": [],
   "source": [
    "row_data = counts_total[['ensembl_gene_id', 'snp_id']]\n",
    "col_names = counts_total.columns.drop(['ensembl_gene_id', 'snp_id'])"
   ]
  },
  {
   "cell_type": "code",
   "execution_count": 17,
   "metadata": {},
   "outputs": [
    {
     "data": {
      "text/plain": [
       "(ensembl_gene_id    0\n",
       " snp_id             0\n",
       " dtype: int64,\n",
       " 0)"
      ]
     },
     "execution_count": 17,
     "metadata": {},
     "output_type": "execute_result"
    }
   ],
   "source": [
    "(row_data != counts_allelic[['ensembl_gene_id', 'snp_id']]).sum(), (col_names != counts_allelic.columns.drop(['ensembl_gene_id', 'snp_id'])).sum()"
   ]
  },
  {
   "cell_type": "code",
   "execution_count": 18,
   "metadata": {},
   "outputs": [],
   "source": [
    "row_data.index = rows.apply(lambda x: '-'.join(x), 1)"
   ]
  },
  {
   "cell_type": "code",
   "execution_count": 24,
   "metadata": {},
   "outputs": [],
   "source": [
    "col_data = pd.read_csv('../data/cell_metadata_cols.tsv', sep='\\t').loc[col_names]"
   ]
  },
  {
   "cell_type": "code",
   "execution_count": 39,
   "metadata": {},
   "outputs": [
    {
     "data": {
      "text/plain": [
       "AnnData object with n_obs × n_vars = 36042 × 4470\n",
       "    obs: 'assigned', 'auxDir', 'cell_filter', 'cell_name', 'compatible_fragment_ratio', 'day', 'donor', 'expected_format', 'experiment', 'frag_dist_length', 'gc_bias_correct', 'is_cell_control', 'is_cell_control_bulk', 'is_cell_control_control', 'library_types', 'libType', 'log10_total_counts', 'log10_total_counts_endogenous', 'log10_total_counts_ERCC', 'log10_total_counts_feature_control', 'log10_total_counts_MT', 'log10_total_features', 'log10_total_features_endogenous', 'log10_total_features_ERCC', 'log10_total_features_feature_control', 'log10_total_features_MT', 'mapping_type', 'mates1', 'mates2', 'n_alt_reads', 'n_total_reads', 'num_assigned_fragments', 'num_bias_bins', 'num_bootstraps', 'num_compatible_fragments', 'num_consistent_mappings', 'num_inconsistent_mappings', 'num_libraries', 'num_mapped', 'num_processed', 'num_targets', 'nvars_used', 'pct_counts_endogenous', 'pct_counts_ERCC', 'pct_counts_feature_control', 'pct_counts_MT', 'pct_counts_top_100_features', 'pct_counts_top_100_features_endogenous', 'pct_counts_top_100_features_feature_control', 'pct_counts_top_200_features', 'pct_counts_top_200_features_endogenous', 'pct_counts_top_50_features', 'pct_counts_top_50_features_endogenous', 'pct_counts_top_50_features_ERCC', 'pct_counts_top_50_features_feature_control', 'pct_counts_top_500_features', 'pct_counts_top_500_features_endogenous', 'percent_mapped', 'plate_id', 'plate_well_id', 'post_prob', 'public_name', 'read_files', 'salmon_version', 'samp_type', 'sample_id', 'seq_bias_correct', 'size_factor', 'start_time', 'strand_mapping_bias', 'total_counts', 'total_counts_endogenous', 'total_counts_ERCC', 'total_counts_feature_control', 'total_counts_MT', 'total_features', 'total_features_endogenous', 'total_features_ERCC', 'total_features_feature_control', 'total_features_MT', 'used_in_expt', 'well_id', 'well_type', 'donor_short_id', 'donor_long_id', 'pseudo', 'PC1_top100hvgs', 'PC1_top200hvgs', 'PC1_top500hvgs', 'PC1_top1000hvgs', 'PC1_top2000hvgs', 'princ_curve', 'princ_curve_scaled01'\n",
       "    var: 'ensembl_gene_id', 'snp_id'\n",
       "    layers: 'allelic_total'"
      ]
     },
     "execution_count": 39,
     "metadata": {},
     "output_type": "execute_result"
    }
   ],
   "source": [
    "adata = AnnData(\n",
    "    X=csr_matrix(counts_allelic[col_names].replace(np.nan, 0).to_numpy()), \n",
    "    obs=row_data, var=col_data)\n",
    "adata.layers['allelic_total'] = csr_matrix(counts_total[col_names].replace(np.nan, 0).to_numpy())\n",
    "adata = adata.T\n",
    "adata"
   ]
  },
  {
   "cell_type": "markdown",
   "metadata": {},
   "source": [
    "Add PCs:"
   ]
  },
  {
   "cell_type": "code",
   "execution_count": 40,
   "metadata": {},
   "outputs": [
    {
     "name": "stderr",
     "output_type": "stream",
     "text": [
      "/icgc/dkfzlsdf/analysis/B260/users/heinent/envs/f1_analysis/lib/python3.6/site-packages/anndata/_core/anndata.py:1094: FutureWarning: is_categorical is deprecated and will be removed in a future version.  Use is_categorical_dtype instead\n",
      "  if not is_categorical(df_full[k]):\n"
     ]
    }
   ],
   "source": [
    "pcs = pd.read_csv('../data/endodiff_100PCs.csv.zip', index_col=0)\n",
    "\n",
    "cell_ids = adata.obs_names.intersection(pcs.index)\n",
    "adata = adata[cell_ids, :]\n",
    "adata.obsm['X_pca'] = pcs.loc[cell_ids].to_numpy()"
   ]
  },
  {
   "cell_type": "markdown",
   "metadata": {},
   "source": [
    "Filter:"
   ]
  },
  {
   "cell_type": "code",
   "execution_count": 41,
   "metadata": {},
   "outputs": [
    {
     "data": {
      "text/plain": [
       "View of AnnData object with n_obs × n_vars = 34254 × 3966\n",
       "    obs: 'assigned', 'auxDir', 'cell_filter', 'cell_name', 'compatible_fragment_ratio', 'day', 'donor', 'expected_format', 'experiment', 'frag_dist_length', 'gc_bias_correct', 'is_cell_control', 'is_cell_control_bulk', 'is_cell_control_control', 'library_types', 'libType', 'log10_total_counts', 'log10_total_counts_endogenous', 'log10_total_counts_ERCC', 'log10_total_counts_feature_control', 'log10_total_counts_MT', 'log10_total_features', 'log10_total_features_endogenous', 'log10_total_features_ERCC', 'log10_total_features_feature_control', 'log10_total_features_MT', 'mapping_type', 'mates1', 'mates2', 'n_alt_reads', 'n_total_reads', 'num_assigned_fragments', 'num_bias_bins', 'num_bootstraps', 'num_compatible_fragments', 'num_consistent_mappings', 'num_inconsistent_mappings', 'num_libraries', 'num_mapped', 'num_processed', 'num_targets', 'nvars_used', 'pct_counts_endogenous', 'pct_counts_ERCC', 'pct_counts_feature_control', 'pct_counts_MT', 'pct_counts_top_100_features', 'pct_counts_top_100_features_endogenous', 'pct_counts_top_100_features_feature_control', 'pct_counts_top_200_features', 'pct_counts_top_200_features_endogenous', 'pct_counts_top_50_features', 'pct_counts_top_50_features_endogenous', 'pct_counts_top_50_features_ERCC', 'pct_counts_top_50_features_feature_control', 'pct_counts_top_500_features', 'pct_counts_top_500_features_endogenous', 'percent_mapped', 'plate_id', 'plate_well_id', 'post_prob', 'public_name', 'read_files', 'salmon_version', 'samp_type', 'sample_id', 'seq_bias_correct', 'size_factor', 'start_time', 'strand_mapping_bias', 'total_counts', 'total_counts_endogenous', 'total_counts_ERCC', 'total_counts_feature_control', 'total_counts_MT', 'total_features', 'total_features_endogenous', 'total_features_ERCC', 'total_features_feature_control', 'total_features_MT', 'used_in_expt', 'well_id', 'well_type', 'donor_short_id', 'donor_long_id', 'pseudo', 'PC1_top100hvgs', 'PC1_top200hvgs', 'PC1_top500hvgs', 'PC1_top1000hvgs', 'PC1_top2000hvgs', 'princ_curve', 'princ_curve_scaled01'\n",
       "    var: 'ensembl_gene_id', 'snp_id'\n",
       "    obsm: 'X_pca'\n",
       "    layers: 'allelic_total'"
      ]
     },
     "execution_count": 41,
     "metadata": {},
     "output_type": "execute_result"
    }
   ],
   "source": [
    "# atleast 50 cells per region\n",
    "adata = adata[:, adata.layers['allelic_total'].A.astype(bool).sum(0) > 50]\n",
    "adata"
   ]
  },
  {
   "cell_type": "markdown",
   "metadata": {},
   "source": [
    "Add published p-values:"
   ]
  },
  {
   "cell_type": "code",
   "execution_count": 52,
   "metadata": {},
   "outputs": [
    {
     "name": "stderr",
     "output_type": "stream",
     "text": [
      "Trying to set attribute `.var` of view, copying.\n"
     ]
    }
   ],
   "source": [
    "pval_pub = pd.read_csv('../data/41467_2020_14457_MOESM10_ESM.txt', sep='\\t', index_col=[0, 1])\n",
    "pval_pub.index = ['-'.join(x) for x in pval_pub.index]\n",
    "adata.var[['pval_orig_pub', 'qval_orig_pub']] = pval_pub.loc[adata.var_names, ['pval', 'qval']]"
   ]
  },
  {
   "cell_type": "code",
   "execution_count": 55,
   "metadata": {},
   "outputs": [
    {
     "name": "stderr",
     "output_type": "stream",
     "text": [
      "/icgc/dkfzlsdf/analysis/B260/users/heinent/envs/f1_analysis/lib/python3.6/site-packages/anndata/_core/anndata.py:1192: FutureWarning: is_categorical is deprecated and will be removed in a future version.  Use is_categorical_dtype instead\n",
      "  if is_string_dtype(df[key]) and not is_categorical(df[key])\n",
      "... storing 'auxDir' as categorical\n",
      "... storing 'day' as categorical\n",
      "... storing 'donor' as categorical\n",
      "... storing 'expected_format' as categorical\n",
      "... storing 'experiment' as categorical\n",
      "... storing 'library_types' as categorical\n",
      "... storing 'libType' as categorical\n",
      "... storing 'mapping_type' as categorical\n",
      "... storing 'salmon_version' as categorical\n",
      "... storing 'samp_type' as categorical\n",
      "... storing 'start_time' as categorical\n",
      "... storing 'well_id' as categorical\n",
      "... storing 'well_type' as categorical\n",
      "... storing 'donor_short_id' as categorical\n",
      "... storing 'donor_long_id' as categorical\n",
      "... storing 'ensembl_gene_id' as categorical\n",
      "... storing 'snp_id' as categorical\n"
     ]
    }
   ],
   "source": [
    "sc.write('../data/endoderm_ase.h5ad', adata)"
   ]
  }
 ],
 "metadata": {
  "kernelspec": {
   "display_name": "f1_analysis",
   "language": "python",
   "name": "f1_analysis"
  },
  "language_info": {
   "codemirror_mode": {
    "name": "ipython",
    "version": 3
   },
   "file_extension": ".py",
   "mimetype": "text/x-python",
   "name": "python",
   "nbconvert_exporter": "python",
   "pygments_lexer": "ipython3",
   "version": "3.6.10"
  }
 },
 "nbformat": 4,
 "nbformat_minor": 4
}
